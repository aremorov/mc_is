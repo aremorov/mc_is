{
 "cells": [
  {
   "cell_type": "markdown",
   "metadata": {},
   "source": [
    "# Monte Carlo 1D Ising Model: Metropolis Algorithm"
   ]
  },
  {
   "cell_type": "markdown",
   "metadata": {},
   "source": [
    "N spins, B = 0, J = 1, k = 1"
   ]
  },
  {
   "cell_type": "code",
   "execution_count": 1,
   "metadata": {},
   "outputs": [],
   "source": [
    "from math import *\n",
    "from random import *\n",
    "import numpy as np\n",
    "import matplotlib.pyplot as plt"
   ]
  },
  {
   "cell_type": "markdown",
   "metadata": {},
   "source": [
    "Some basic conditions (to test functions & debugging):"
   ]
  },
  {
   "cell_type": "code",
   "execution_count": 2,
   "metadata": {},
   "outputs": [],
   "source": [
    "N = 1000 #number of spins\n",
    "I = np.ones(N) #all spins up, periodic bounday conditions\n",
    "T = 3 #final temp, near critical region\n",
    "beta_0 = 1/T #make k = 1 here for simplicity"
   ]
  },
  {
   "cell_type": "markdown",
   "metadata": {},
   "source": [
    "Defining functions that calculate internal energy, flip a spin, and energy change when flipping a spin:"
   ]
  },
  {
   "cell_type": "code",
   "execution_count": 3,
   "metadata": {},
   "outputs": [],
   "source": [
    "def E(ising_array): #gets energy in ising array\n",
    "    total_E = 0\n",
    "    for i in range(len(ising_array)):\n",
    "        total_E += -ising_array[i]*ising_array[(i+1)%len(ising_array)] #periodic sum\n",
    "    return total_E"
   ]
  },
  {
   "cell_type": "code",
   "execution_count": 4,
   "metadata": {},
   "outputs": [],
   "source": [
    "def M(ising_array): #gets magnetization in ising array\n",
    "    total_M = 0\n",
    "    for i in range(len(ising_array)):\n",
    "        total_M += ising_array[i]\n",
    "    return total_M"
   ]
  },
  {
   "cell_type": "code",
   "execution_count": 5,
   "metadata": {},
   "outputs": [],
   "source": [
    "def flip(ising_array, k): #just flips kth spin\n",
    "    ising_array[k] = -ising_array[k]  #updated array\n",
    "    return 0"
   ]
  },
  {
   "cell_type": "code",
   "execution_count": 6,
   "metadata": {},
   "outputs": [],
   "source": [
    "def flip_dE(ising_array, k): #energy when flipping kth spin\n",
    "    dE = 2*ising_array[k]*(ising_array[(k-1)%len(ising_array)]+ising_array[(k+1)%len(ising_array)])\n",
    "    return dE"
   ]
  },
  {
   "cell_type": "code",
   "execution_count": 7,
   "metadata": {},
   "outputs": [],
   "source": [
    "def flip_dM(ising_array, k): #magnetization change when flipping a spin\n",
    "    return -2*ising_array[k]"
   ]
  },
  {
   "cell_type": "code",
   "execution_count": 22,
   "metadata": {},
   "outputs": [],
   "source": [
    "def auto_correlation(m, t_max, t): #returns chi(t), needed to measure integrated correlation time\n",
    "    sum1 = 0\n",
    "    sum2 = 0\n",
    "    sum3 = 0\n",
    "    \n",
    "    for i in range(t_max - t):\n",
    "        #print(i+t)\n",
    "        sum1 += m[i] * m[i + t]\n",
    "        \n",
    "        \n",
    "    for i in range(t_max - t):\n",
    "        sum2 += m[i]\n",
    "        \n",
    "    for i in range(t_max - t):\n",
    "        sum3 += m[i + t]\n",
    "        \n",
    "    return sum1/(t_max - t) - sum2 * sum3 / (t_max - t)**2"
   ]
  },
  {
   "cell_type": "code",
   "execution_count": 9,
   "metadata": {},
   "outputs": [],
   "source": [
    "def corr_time(chi_list):\n",
    "    tau = 0\n",
    "    \n",
    "    for i in range(len(chi_list)):\n",
    "        tau += chi_list[i]/chi_list[0]\n",
    "    \n",
    "    return tau"
   ]
  },
  {
   "cell_type": "markdown",
   "metadata": {},
   "source": [
    "Using the above functions, we can apply the metropolis algorithm to N randomly\n",
    "chosen spins (sweep):"
   ]
  },
  {
   "cell_type": "code",
   "execution_count": 10,
   "metadata": {},
   "outputs": [],
   "source": [
    "def cycle(ising_array, beta): #does 1 sweep\n",
    "    for i in range(int(len(ising_array)/1)): \n",
    "        j = randint(0, len(ising_array) - 1) #random jth spin is chosen\n",
    "        delta_E = flip_dE(ising_array, j)\n",
    "        delta_M = flip_dM(ising_array, j) #I am not actually using this...\n",
    "      \n",
    "        if delta_E < 0: #always allow transition to lower energy state\n",
    "            flip(ising_array, j)\n",
    "        \n",
    "        else:\n",
    "            if(random() < e**(-4 * beta)):\n",
    "                flip(ising_array, j) #much more likely to transition down than up...\n",
    "    return [E(I), M(I)]"
   ]
  },
  {
   "cell_type": "markdown",
   "metadata": {},
   "source": [
    "Running a simulation to equilibrium conditions takes around 1000 sweeps (possibly more for low T),\n",
    "since the simulation is longer near the critical region (where the phase \n",
    "transition from ferromagnet to paramegnet occurs)"
   ]
  },
  {
   "cell_type": "code",
   "execution_count": 1,
   "metadata": {},
   "outputs": [],
   "source": [
    "def simulation(ising_array, beta): #returns energy and magnetization\n",
    "    E_list = []\n",
    "    m_list = []\n",
    "    for i in range(1000):\n",
    "        E_element, M_element = cycle(I, beta)\n",
    "        if(i >= 500):\n",
    "            m_list.append(M_element/len(I))\n",
    "            E_list.append(E_element)\n",
    "    return [E_list, m_list]"
   ]
  },
  {
   "cell_type": "markdown",
   "metadata": {},
   "source": [
    "To get <q^2>, just convert q_array to numpy array and then np.average(q_array**2). "
   ]
  },
  {
   "cell_type": "code",
   "execution_count": 13,
   "metadata": {},
   "outputs": [],
   "source": [
    "def simple_error(q_array): #gets the error for simple averaged parameters like energy, magnetization\n",
    "    q_array = np.asarray(q_array)\n",
    "    sigma = np.sqrt((np.average(q_array**2) - np.average(q_array)**2)/len(q_array))\n",
    "    return sigma"
   ]
  },
  {
   "cell_type": "code",
   "execution_count": 14,
   "metadata": {},
   "outputs": [],
   "source": [
    "def specific_heat(e_l, beta, spin_num): #gets specific heat from energy list\n",
    "    e_l = np.asarray(e_l)\n",
    "    return ((beta**2)/spin_num) * (np.average(e_l**2) - np.average(e_l)**2)"
   ]
  },
  {
   "cell_type": "code",
   "execution_count": 81,
   "metadata": {},
   "outputs": [],
   "source": [
    "def c_bootstrap(e_l, beta, spin_num): #bootstrap error method, used to calculate specific heat error from overall energy list \n",
    "    e_l = np.asarray(e_l)\n",
    "    c_list = []\n",
    "    for i in range(10): #do this process 10 times\n",
    "        temp_list = []\n",
    "        for j in range(len(e_l)):\n",
    "            index = randint(0, len(e_l)-1)\n",
    "            temp_list.append(e_l[index])\n",
    "        c_list.append(specific_heat(temp_list, beta, spin_num))\n",
    "        #print(c_list) #troubleshoot\n",
    "    c_list = np.asarray(c_list)\n",
    "    sigma = np.sqrt(np.average(c_list**2) - np.average(c_list)**2)\n",
    "    return sigma\n",
    "        \n",
    "    "
   ]
  },
  {
   "cell_type": "code",
   "execution_count": 16,
   "metadata": {},
   "outputs": [
    {
     "data": {
      "text/plain": [
       "[4, 5]"
      ]
     },
     "execution_count": 16,
     "metadata": {},
     "output_type": "execute_result"
    }
   ],
   "source": [
    "list1 = [1,2,3,4,5]\n",
    "list1[-2:]"
   ]
  },
  {
   "cell_type": "markdown",
   "metadata": {},
   "source": [
    "Getting integrated correlation time: Correlation time is close to 1 for larger temperatures, but at T = 1, correlation time is 60. That is pretty large! Correlation time sharply drops to around 3 for T = 2."
   ]
  },
  {
   "cell_type": "code",
   "execution_count": 26,
   "metadata": {},
   "outputs": [
    {
     "data": {
      "image/png": "[encoded data removed]",
      "text/plain": [
       "<Figure size 432x288 with 1 Axes>"
      ]
     },
     "metadata": {
      "needs_background": "light"
     },
     "output_type": "display_data"
    },
    {
     "name": "stdout",
     "output_type": "stream",
     "text": [
      "6.556853927672104\n"
     ]
    }
   ],
   "source": [
    "b0 = 1/2\n",
    "I = np.ones(1000)\n",
    "\n",
    "E_array = simulation(I, b0)[0]\n",
    "m_array = simulation(I, b0)[1]\n",
    "\n",
    "chi_array = []\n",
    "\n",
    "for i in range(100): #get chi(0) to chi(300)\n",
    "    chi_array.append(auto_correlation(m_array, 400, i))\n",
    "    \n",
    "t_array = np.arange(100)\n",
    "\n",
    "plt.plot(t_array, chi_array)\n",
    "plt.xlabel(\"Time (in sweeps)\")\n",
    "plt.ylabel(\"Magnetization autocorrelation\")\n",
    "plt.show()\n",
    "\n",
    "print(corr_time(chi_array))"
   ]
  },
  {
   "cell_type": "code",
   "execution_count": null,
   "metadata": {},
   "outputs": [],
   "source": [
    "print(simple_error(E_array))\n",
    "I\n",
    "print(np.average(E_array))"
   ]
  },
  {
   "cell_type": "markdown",
   "metadata": {},
   "source": [
    "Comparing analytic to computationally determined energies at a variety of temperatures:"
   ]
  },
  {
   "cell_type": "code",
   "execution_count": 27,
   "metadata": {},
   "outputs": [
    {
     "data": {
      "image/png": "[encoded data removed]",
      "text/plain": [
       "<Figure size 432x288 with 1 Axes>"
      ]
     },
     "metadata": {
      "needs_background": "light"
     },
     "output_type": "display_data"
    }
   ],
   "source": [
    "T_array = np.asarray([1, 2, 4, 9, 16, 25, 36, 49, 64, 81, 100])\n",
    "beta_array = 1/T_array #k = 1\n",
    "E_analytic = -N*np.tanh(1/T_array)\n",
    "\n",
    "E_comp = []\n",
    "\n",
    "for i in range(len(T_array)):\n",
    "    I = np.ones(N)\n",
    "    E_comp.append(np.average(simulation(I, 1/T_array[i])[0]))\n",
    "    \n",
    "plt.plot(T_array, E_analytic, label=\"Analytic\")\n",
    "plt.plot(T_array, E_comp, label=\"Computational\")\n",
    "plt.legend()\n",
    "plt.xlabel(\"T\")\n",
    "plt.ylabel(\"Energy\")\n",
    "plt.show()\n"
   ]
  },
  {
   "cell_type": "markdown",
   "metadata": {},
   "source": [
    "Now comparing computational results to analytic at low temperature:"
   ]
  },
  {
   "cell_type": "code",
   "execution_count": 28,
   "metadata": {
    "scrolled": false
   },
   "outputs": [
    {
     "data": {
      "image/png": "[encoded data removed]",
      "text/plain": [
       "<Figure size 432x288 with 1 Axes>"
      ]
     },
     "metadata": {
      "needs_background": "light"
     },
     "output_type": "display_data"
    }
   ],
   "source": [
    "N = 1000\n",
    "T_array1 = np.arange(0.01, 3.5, 0.02)\n",
    "T_array2 = np.asarray([0.5, 1, 1.5, 2, 2.5, 3])\n",
    "E_analytic = -N*np.tanh(1/T_array1)\n",
    "E_comp = []\n",
    "E_error = []\n",
    "\n",
    "for i in range(len(T_array2)):\n",
    "    I = np.ones(N)\n",
    "    energy_list = simulation(I, 1/T_array2[i])[0]\n",
    "    E_comp.append(np.average(energy_list))\n",
    "    E_error.append(simple_error(energy_list))\n",
    "    \n",
    "    \n",
    "\n",
    "plt.plot(T_array1, E_analytic, label=\"Analytic\", color=\"red\")\n",
    "plt.errorbar(T_array2, E_comp, yerr = E_error, label=\"Computational\", color = \"green\")\n",
    "plt.legend()\n",
    "plt.xlabel(\"T\")\n",
    "plt.ylabel(\"Energy\")\n",
    "plt.show()"
   ]
  },
  {
   "cell_type": "code",
   "execution_count": 29,
   "metadata": {},
   "outputs": [
    {
     "name": "stdout",
     "output_type": "stream",
     "text": [
      "[-998.5731462925852, -796.8416833667335, -589.4108216432866, -464.80160320641284, -382.3887775551102, -322.82965931863725]\n",
      "[0.10829211634363095, 1.7823536131800568, 1.552793014594248, 1.4204888305744534, 1.320774436185807, 1.4631681258771476]\n"
     ]
    }
   ],
   "source": [
    "print(E_comp)\n",
    "print(E_error)"
   ]
  },
  {
   "cell_type": "markdown",
   "metadata": {},
   "source": [
    "Calculating magnetization:"
   ]
  },
  {
   "cell_type": "code",
   "execution_count": 30,
   "metadata": {},
   "outputs": [
    {
     "data": {
      "image/png": "[encoded data removed]",
      "text/plain": [
       "<Figure size 432x288 with 1 Axes>"
      ]
     },
     "metadata": {
      "needs_background": "light"
     },
     "output_type": "display_data"
    }
   ],
   "source": [
    "N = 1000\n",
    "T_array2 = np.asarray([0.5, 0.6, 0.7, 0.8, 0.9, 1])\n",
    "m_comp = []\n",
    "m_error = []\n",
    "\n",
    "for i in range(len(T_array2)):\n",
    "    I = np.ones(N)\n",
    "    m_list = simulation(I, 1/T_array2[i])[1]\n",
    "    m_comp.append(np.average(m_list))\n",
    "    m_error.append(simple_error(m_list))\n",
    "\n",
    "plt.errorbar(T_array2, m_comp, yerr = m_error, label=\"Comp. Magnetization\", color = \"green\")\n",
    "plt.legend()\n",
    "plt.xlabel(\"T\")\n",
    "plt.ylabel(\"Magnetization\")\n",
    "plt.show()\n"
   ]
  },
  {
   "cell_type": "code",
   "execution_count": 31,
   "metadata": {},
   "outputs": [
    {
     "name": "stdout",
     "output_type": "stream",
     "text": [
      "[0.9993226452905811, 0.988937875751503, 0.9620841683366734, 0.8475951903807615, 0.6954228456913827, 0.4476072144288577]\n",
      "[5.313660824190182e-05, 0.0002939345865447253, 0.0007516939368136955, 0.0027616788165700846, 0.007235409755566244, 0.01089517123601716]\n"
     ]
    }
   ],
   "source": [
    "print(m_comp)\n",
    "print(m_error)"
   ]
  },
  {
   "cell_type": "markdown",
   "metadata": {},
   "source": [
    "Calculating specific heat:"
   ]
  },
  {
   "cell_type": "code",
   "execution_count": 86,
   "metadata": {},
   "outputs": [
    {
     "data": {
      "image/png": "[encoded data removed]",
      "text/plain": [
       "<Figure size 432x288 with 1 Axes>"
      ]
     },
     "metadata": {
      "needs_background": "light"
     },
     "output_type": "display_data"
    }
   ],
   "source": [
    "N = 1000\n",
    "T_array2 = np.asarray([0.5, 1, 1.5, 2, 2.5, 3])\n",
    "beta_array = 1/T_array2\n",
    "c_comp = []\n",
    "c_error = []\n",
    "\n",
    "for i in range(len(T_array2)):\n",
    "    I = np.ones(N)\n",
    "    energy_list = simulation(I, 1/T_array2[i])[0]\n",
    "    c_comp.append(specific_heat(energy_list, beta_array[i], len(I)))\n",
    "    c_error.append(c_bootstrap(energy_list, beta_array[i], len(I)))\n",
    "    \n",
    "    \n",
    "plt.errorbar(T_array2, c_comp, yerr = c_error, label=\"Specific Heat\", color = \"green\")\n",
    "plt.legend()\n",
    "plt.xlabel(\"T\")\n",
    "plt.ylabel(\"Specific Heat\")\n",
    "plt.show()"
   ]
  },
  {
   "cell_type": "code",
   "execution_count": 85,
   "metadata": {},
   "outputs": [
    {
     "data": {
      "text/plain": [
       "0.010406101248324504"
      ]
     },
     "execution_count": 85,
     "metadata": {},
     "output_type": "execute_result"
    }
   ],
   "source": [
    "len(energy_list)\n",
    "specific_heat(energy_list, beta_array[5], 1000)\n",
    "c_bootstrap(energy_list, beta_array[5], 1000)"
   ]
  },
  {
   "cell_type": "code",
   "execution_count": 72,
   "metadata": {},
   "outputs": [
    {
     "data": {
      "text/plain": [
       "499"
      ]
     },
     "execution_count": 72,
     "metadata": {},
     "output_type": "execute_result"
    }
   ],
   "source": [
    "a = randint(0, len(energy_list))\n",
    "energy_list[a]\n",
    "len(energy_list)"
   ]
  },
  {
   "cell_type": "code",
   "execution_count": null,
   "metadata": {},
   "outputs": [],
   "source": []
  },
  {
   "cell_type": "code",
   "execution_count": null,
   "metadata": {},
   "outputs": [],
   "source": []
  }
 ],
 "metadata": {
  "kernelspec": {
   "display_name": "Python 3",
   "language": "python",
   "name": "python3"
  },
  "language_info": {
   "codemirror_mode": {
    "name": "ipython",
    "version": 3
   },
   "file_extension": ".py",
   "mimetype": "text/x-python",
   "name": "python",
   "nbconvert_exporter": "python",
   "pygments_lexer": "ipython3",
   "version": "3.7.4"
  }
 },
 "nbformat": 4,
 "nbformat_minor": 2
}
