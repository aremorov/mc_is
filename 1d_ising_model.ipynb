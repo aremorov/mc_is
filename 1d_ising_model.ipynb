{
 "cells": [
  {
   "cell_type": "markdown",
   "metadata": {},
   "source": [
    "# Monte Carlo 1D Ising Model: Metropolis Algorithm"
   ]
  },
  {
   "cell_type": "markdown",
   "metadata": {},
   "source": [
    "N spins, B = 0, J = 1, k = 1"
   ]
  },
  {
   "cell_type": "code",
   "execution_count": 1,
   "metadata": {},
   "outputs": [],
   "source": [
    "from math import *\n",
    "from random import *\n",
    "import numpy as np\n",
    "import matplotlib.pyplot as plt\n",
    "\n",
    "import sympy\n",
    "sympy.init_printing()"
   ]
  },
  {
   "cell_type": "markdown",
   "metadata": {},
   "source": [
    "Some basic conditions (to test functions & debugging):"
   ]
  },
  {
   "cell_type": "code",
   "execution_count": 2,
   "metadata": {},
   "outputs": [],
   "source": [
    "N = 1000 #number of spins\n",
    "I = np.ones(N) #all spins up, periodic bounday conditions\n",
    "T = 3 #final temp, near critical region\n",
    "beta_0 = 1/T #make k = 1 here for simplicity"
   ]
  },
  {
   "cell_type": "markdown",
   "metadata": {},
   "source": [
    "Defining functions that calculate internal energy, flip a spin, and energy change when flipping a spin:"
   ]
  },
  {
   "cell_type": "code",
   "execution_count": 3,
   "metadata": {},
   "outputs": [],
   "source": [
    "def E(ising_array): #gets energy in ising array\n",
    "    total_E = 0\n",
    "    for i in range(len(ising_array)):\n",
    "        total_E += -ising_array[i]*ising_array[(i+1)%len(ising_array)] #periodic sum\n",
    "    return total_E"
   ]
  },
  {
   "cell_type": "code",
   "execution_count": 4,
   "metadata": {},
   "outputs": [],
   "source": [
    "def M(ising_array): #gets magnetization in ising array\n",
    "    total_M = 0\n",
    "    for i in range(len(ising_array)):\n",
    "        total_M += ising_array[i]\n",
    "    return total_M"
   ]
  },
  {
   "cell_type": "code",
   "execution_count": 5,
   "metadata": {},
   "outputs": [],
   "source": [
    "def flip(ising_array, k): #just flips kth spin\n",
    "    ising_array[k] = -ising_array[k]  #updated array\n",
    "    return 0"
   ]
  },
  {
   "cell_type": "code",
   "execution_count": 6,
   "metadata": {},
   "outputs": [],
   "source": [
    "def flip_dE(ising_array, k): #energy when flipping kth spin\n",
    "    dE = 2*ising_array[k]*(ising_array[(k-1)%len(ising_array)]+ising_array[(k+1)%len(ising_array)])\n",
    "    return dE"
   ]
  },
  {
   "cell_type": "code",
   "execution_count": 7,
   "metadata": {},
   "outputs": [],
   "source": [
    "def flip_dM(ising_array, k): #magnetization change when flipping a spin\n",
    "    return -2*ising_array[k]"
   ]
  },
  {
   "cell_type": "code",
   "execution_count": 8,
   "metadata": {},
   "outputs": [],
   "source": [
    "def auto_correlation(m, t_max, t): #returns chi(t), needed to measure integrated correlation time\n",
    "    sum1 = 0\n",
    "    sum2 = 0\n",
    "    sum3 = 0\n",
    "    \n",
    "    for i in range(t_max - t):\n",
    "        #print(i+t)\n",
    "        sum1 += m[i] * m[i + t]\n",
    "        \n",
    "        \n",
    "    for i in range(t_max - t):\n",
    "        sum2 += m[i]\n",
    "        \n",
    "    for i in range(t_max - t):\n",
    "        sum3 += m[i + t]\n",
    "        \n",
    "    return sum1/(t_max - t) - sum2 * sum3 / (t_max - t)**2"
   ]
  },
  {
   "cell_type": "code",
   "execution_count": 9,
   "metadata": {},
   "outputs": [],
   "source": [
    "def auto_correlation2(m, t_max, t): #returns chi(t), needed to measure integrated correlation time\n",
    "    sum1 = 0\n",
    "    sum2 = 0\n",
    "    \n",
    "    for i in range(t_max - t):\n",
    "        #print(i+t)\n",
    "        sum1 += m[i] * m[i + t]\n",
    "        \n",
    "        \n",
    "    for i in range(t_max - t):\n",
    "        sum2 += m[i]\n",
    "        \n",
    "        \n",
    "    return sum1/(t_max - t) - sum2 ** 2 / (t_max - t)**2"
   ]
  },
  {
   "cell_type": "code",
   "execution_count": 10,
   "metadata": {},
   "outputs": [],
   "source": [
    "def corr_time(chi_list):\n",
    "    tau = 0\n",
    "    \n",
    "    for i in range(len(chi_list)):\n",
    "        tau += chi_list[i]/chi_list[0]\n",
    "    \n",
    "    return tau"
   ]
  },
  {
   "cell_type": "markdown",
   "metadata": {},
   "source": [
    "Using the above functions, we can apply the metropolis algorithm to N randomly\n",
    "chosen spins (sweep):"
   ]
  },
  {
   "cell_type": "code",
   "execution_count": 11,
   "metadata": {},
   "outputs": [],
   "source": [
    "def cycle(ising_array, beta): #does 1 sweep\n",
    "    for i in range(int(len(ising_array)/1)): \n",
    "        j = randint(0, len(ising_array) - 1) #random jth spin is chosen\n",
    "        delta_E = flip_dE(ising_array, j)\n",
    "        delta_M = flip_dM(ising_array, j) #I am not actually using this...\n",
    "      \n",
    "        if delta_E < 0: #always allow transition to lower energy state\n",
    "            flip(ising_array, j)\n",
    "        \n",
    "        else:\n",
    "            if(random() < e**(-4 * beta)):\n",
    "                flip(ising_array, j) #much more likely to transition down than up...\n",
    "    return [E(I), M(I)]"
   ]
  },
  {
   "cell_type": "code",
   "execution_count": null,
   "metadata": {},
   "outputs": [],
   "source": []
  },
  {
   "cell_type": "markdown",
   "metadata": {},
   "source": [
    "Running a simulation to equilibrium conditions takes around 1000 sweeps (possibly more for low T),\n",
    "since the simulation is longer near the critical region (where the phase \n",
    "transition from ferromagnet to paramegnet occurs)"
   ]
  },
  {
   "cell_type": "code",
   "execution_count": 12,
   "metadata": {},
   "outputs": [],
   "source": [
    "def simulation(ising_array, beta): #returns energy and magnetization\n",
    "    E_list = []\n",
    "    m_list = []\n",
    "    for i in range(2000):\n",
    "        E_element, M_element = cycle(I, beta)\n",
    "        if(i >= 200 and i%1 == 0):\n",
    "            m_list.append(M_element/len(I))\n",
    "            E_list.append(E_element)\n",
    "    return [E_list, m_list]"
   ]
  },
  {
   "cell_type": "markdown",
   "metadata": {},
   "source": [
    "To get <q^2>, just convert q_array to numpy array and then np.average(q_array**2). "
   ]
  },
  {
   "cell_type": "code",
   "execution_count": 13,
   "metadata": {},
   "outputs": [],
   "source": [
    "def simple_error(q_array): #gets the error for simple averaged parameters like energy, magnetization\n",
    "    q_array = np.asarray(q_array)\n",
    "    sigma = np.sqrt((np.average(q_array**2) - np.average(q_array)**2)/len(q_array))\n",
    "    return sigma"
   ]
  },
  {
   "cell_type": "code",
   "execution_count": 14,
   "metadata": {},
   "outputs": [],
   "source": [
    "def specific_heat(e_l, beta, spin_num): #gets specific heat from energy list\n",
    "    e_l = np.asarray(e_l)\n",
    "    return ((beta**2)/spin_num) * (np.average(e_l**2) - np.average(e_l)**2)"
   ]
  },
  {
   "cell_type": "code",
   "execution_count": 15,
   "metadata": {},
   "outputs": [],
   "source": [
    "def c_bootstrap(e_l, beta, spin_num): #bootstrap error method, used to calculate specific heat error from overall energy list \n",
    "    e_l = np.asarray(e_l)\n",
    "    c_list = []\n",
    "    for i in range(10): #do this process 10 times\n",
    "        temp_list = []\n",
    "        for j in range(len(e_l)):\n",
    "            index = randint(0, len(e_l)-1)\n",
    "            temp_list.append(e_l[index])\n",
    "        c_list.append(specific_heat(temp_list, beta, spin_num))\n",
    "        #print(c_list) #troubleshoot\n",
    "    c_list = np.asarray(c_list)\n",
    "    sigma = np.sqrt(np.average(c_list**2) - np.average(c_list)**2)\n",
    "    return sigma\n",
    "        \n",
    "    "
   ]
  },
  {
   "cell_type": "code",
   "execution_count": 16,
   "metadata": {},
   "outputs": [
    {
     "data": {
      "image/png": "[encoded data removed]",
      "text/latex": [
       "$$\\left [ 4, \\quad 5\\right ]$$"
      ],
      "text/plain": [
       "[4, 5]"
      ]
     },
     "execution_count": 16,
     "metadata": {},
     "output_type": "execute_result"
    }
   ],
   "source": [
    "list1 = [1,2,3,4,5]\n",
    "list1[-2:]"
   ]
  },
  {
   "cell_type": "markdown",
   "metadata": {},
   "source": [
    "Getting integrated correlation time: Correlation time is close to 1 for larger temperatures, but at T = 1, correlation time is 60. That is pretty large! Correlation time sharply drops to around 3 for T = 2."
   ]
  },
  {
   "cell_type": "code",
   "execution_count": 17,
   "metadata": {},
   "outputs": [
    {
     "data": {
      "image/png": "[encoded data removed]",
      "text/plain": [
       "<Figure size 432x288 with 1 Axes>"
      ]
     },
     "metadata": {
      "needs_background": "light"
     },
     "output_type": "display_data"
    },
    {
     "name": "stdout",
     "output_type": "stream",
     "text": [
      "2.5403427551022943\n"
     ]
    }
   ],
   "source": [
    "b0 = 1/2\n",
    "I = np.ones(1000)\n",
    "\n",
    "E_array = simulation(I, b0)[0]\n",
    "m_array = simulation(I, b0)[1]\n",
    "\n",
    "chi_array = []\n",
    "chi_array2 = [] #using \"simplified\" finite autocorrelation\n",
    "\n",
    "for i in range(100): #get chi(0) to chi(300)\n",
    "    chi_array.append(auto_correlation(m_array, 400, i))\n",
    "    chi_array2.append(auto_correlation2(m_array, 400, i)) #these are basically the same line\n",
    "    \n",
    "t_array = np.arange(100)\n",
    "\n",
    "plt.plot(t_array, chi_array, label = \"Regular\")\n",
    "plt.plot(t_array, chi_array2, label = \"Simplified\")\n",
    "plt.legend()\n",
    "plt.xlabel(\"Time (in sweeps)\")\n",
    "plt.ylabel(\"Magnetization autocorrelation\")\n",
    "plt.show()\n",
    "\n",
    "print(corr_time(chi_array))"
   ]
  },
  {
   "cell_type": "code",
   "execution_count": 17,
   "metadata": {},
   "outputs": [
    {
     "name": "stdout",
     "output_type": "stream",
     "text": [
      "1.1971846975300249\n",
      "-464.28\n"
     ]
    }
   ],
   "source": [
    "print(simple_error(E_array))\n",
    "I\n",
    "print(np.average(E_array))"
   ]
  },
  {
   "cell_type": "markdown",
   "metadata": {},
   "source": [
    "Comparing analytic to computationally determined energies at a variety of temperatures:"
   ]
  },
  {
   "cell_type": "code",
   "execution_count": 18,
   "metadata": {},
   "outputs": [
    {
     "data": {
      "image/png": "[encoded data removed]",
      "text/plain": [
       "<Figure size 432x288 with 1 Axes>"
      ]
     },
     "metadata": {
      "needs_background": "light"
     },
     "output_type": "display_data"
    }
   ],
   "source": [
    "T_array = np.asarray([1, 2, 4, 9, 16, 25, 36, 49, 64, 81, 100])\n",
    "beta_array = 1/T_array #k = 1\n",
    "E_analytic = -N*np.tanh(1/T_array)\n",
    "\n",
    "E_comp = []\n",
    "\n",
    "for i in range(len(T_array)):\n",
    "    I = np.ones(N)\n",
    "    E_comp.append(np.average(simulation(I, 1/T_array[i])[0]))\n",
    "    \n",
    "plt.plot(T_array, E_analytic, label=\"Analytic\")\n",
    "plt.plot(T_array, E_comp, label=\"Computational\")\n",
    "plt.legend()\n",
    "plt.xlabel(\"T\")\n",
    "plt.ylabel(\"Energy\")\n",
    "plt.show()\n"
   ]
  },
  {
   "cell_type": "markdown",
   "metadata": {},
   "source": [
    "Now comparing computational results to analytic at low temperature:"
   ]
  },
  {
   "cell_type": "code",
   "execution_count": 19,
   "metadata": {
    "scrolled": false
   },
   "outputs": [
    {
     "data": {
      "image/png": "[encoded data removed]",
      "text/plain": [
       "<Figure size 432x288 with 1 Axes>"
      ]
     },
     "metadata": {
      "needs_background": "light"
     },
     "output_type": "display_data"
    }
   ],
   "source": [
    "N = 1000\n",
    "T_array1 = np.arange(0.01, 3.5, 0.02)\n",
    "T_array2 = np.asarray([0.5, 1, 1.5, 2, 2.5, 3])\n",
    "E_analytic = -N*np.tanh(1/T_array1)\n",
    "E_comp = []\n",
    "E_error = []\n",
    "\n",
    "for i in range(len(T_array2)):\n",
    "    I = np.ones(N)\n",
    "    energy_list = simulation(I, 1/T_array2[i])[0]\n",
    "    E_comp.append(np.average(energy_list))\n",
    "    E_error.append(simple_error(energy_list))\n",
    "    \n",
    "    \n",
    "\n",
    "plt.plot(T_array1, E_analytic, label=\"Analytic\", color=\"red\")\n",
    "plt.errorbar(T_array2, E_comp, yerr = E_error, label=\"Computational\", color = \"green\")\n",
    "plt.legend()\n",
    "plt.xlabel(\"T\")\n",
    "plt.ylabel(\"Energy\")\n",
    "plt.show()"
   ]
  },
  {
   "cell_type": "code",
   "execution_count": 20,
   "metadata": {},
   "outputs": [
    {
     "name": "stdout",
     "output_type": "stream",
     "text": [
      "[-996.24, -776.216, -588.728, -464.888, -379.032, -321.904]\n",
      "[0.12654169273369736, 0.8342869338542159, 1.1863338619461903, 1.2630973485840533, 1.3468474122928717, 1.2343539071109242]\n"
     ]
    }
   ],
   "source": [
    "print(E_comp)\n",
    "print(E_error)"
   ]
  },
  {
   "cell_type": "markdown",
   "metadata": {},
   "source": [
    "Calculating magnetization:"
   ]
  },
  {
   "cell_type": "code",
   "execution_count": 21,
   "metadata": {},
   "outputs": [
    {
     "data": {
      "image/png": "[encoded data removed]",
      "text/plain": [
       "<Figure size 432x288 with 1 Axes>"
      ]
     },
     "metadata": {
      "needs_background": "light"
     },
     "output_type": "display_data"
    }
   ],
   "source": [
    "N = 1000\n",
    "T_array2 = np.asarray([0.5, 0.6, 0.7, 0.8, 0.9, 1])\n",
    "m_comp = []\n",
    "m_error = []\n",
    "\n",
    "for i in range(len(T_array2)):\n",
    "    I = np.ones(N)\n",
    "    m_list = simulation(I, 1/T_array2[i])[1]\n",
    "    m_comp.append(np.average(m_list))\n",
    "    m_error.append(simple_error(m_list))\n",
    "\n",
    "plt.errorbar(T_array2, m_comp, yerr = m_error, label=\"Comp. Magnetization\", color = \"green\")\n",
    "plt.legend()\n",
    "plt.xlabel(\"T\")\n",
    "plt.ylabel(\"Magnetization\")\n",
    "plt.show()\n"
   ]
  },
  {
   "cell_type": "code",
   "execution_count": 22,
   "metadata": {},
   "outputs": [
    {
     "name": "stdout",
     "output_type": "stream",
     "text": [
      "[0.999364, 0.990744, 0.9286599999999999, 0.596952, 0.40964, -0.011523999999999998]\n",
      "[5.282999148045561e-05, 0.00021424501861251136, 0.00047295750337684084, 0.004292383416238588, 0.0031116807034141476, 0.003550532755517121]\n"
     ]
    }
   ],
   "source": [
    "print(m_comp)\n",
    "print(m_error)"
   ]
  },
  {
   "cell_type": "markdown",
   "metadata": {},
   "source": [
    "Calculating specific heat:"
   ]
  },
  {
   "cell_type": "code",
   "execution_count": 36,
   "metadata": {},
   "outputs": [
    {
     "data": {
      "image/png": "[encoded data removed]",
      "text/plain": [
       "<Figure size 432x288 with 1 Axes>"
      ]
     },
     "metadata": {
      "needs_background": "light"
     },
     "output_type": "display_data"
    }
   ],
   "source": [
    "N = 100\n",
    "T1 = np.linspace(0.1, 3, 100)\n",
    "b1 = 1/T1\n",
    "\n",
    "T_array2 = np.linspace(0.1, 3, 20)\n",
    "beta_array = 1/T_array2\n",
    "c_comp = []\n",
    "c_error = []\n",
    "\n",
    "for i in range(len(T_array2)):\n",
    "    I = np.ones(N)\n",
    "    energy_list = simulation(I, 1/T_array2[i])[0]\n",
    "    c_comp.append(specific_heat(energy_list, beta_array[i], len(I)))\n",
    "    c_error.append(c_bootstrap(energy_list, beta_array[i], len(I)))\n",
    "    \n",
    "plt.plot(T1, analytic_c(b1), label=\"Analytic\") \n",
    "plt.errorbar(T_array2, c_comp, yerr = c_error, label=\"Specific Heat\", color = \"green\")\n",
    "plt.legend()\n",
    "plt.xlabel(\"T\")\n",
    "plt.ylabel(\"Specific Heat\")\n",
    "plt.show()"
   ]
  },
  {
   "cell_type": "code",
   "execution_count": 24,
   "metadata": {},
   "outputs": [
    {
     "data": {
      "text/plain": [
       "array([0.1       , 0.12929293, 0.15858586, 0.18787879, 0.21717172,\n",
       "       0.24646465, 0.27575758, 0.30505051, 0.33434343, 0.36363636,\n",
       "       0.39292929, 0.42222222, 0.45151515, 0.48080808, 0.51010101,\n",
       "       0.53939394, 0.56868687, 0.5979798 , 0.62727273, 0.65656566,\n",
       "       0.68585859, 0.71515152, 0.74444444, 0.77373737, 0.8030303 ,\n",
       "       0.83232323, 0.86161616, 0.89090909, 0.92020202, 0.94949495,\n",
       "       0.97878788, 1.00808081, 1.03737374, 1.06666667, 1.0959596 ,\n",
       "       1.12525253, 1.15454545, 1.18383838, 1.21313131, 1.24242424,\n",
       "       1.27171717, 1.3010101 , 1.33030303, 1.35959596, 1.38888889,\n",
       "       1.41818182, 1.44747475, 1.47676768, 1.50606061, 1.53535354,\n",
       "       1.56464646, 1.59393939, 1.62323232, 1.65252525, 1.68181818,\n",
       "       1.71111111, 1.74040404, 1.76969697, 1.7989899 , 1.82828283,\n",
       "       1.85757576, 1.88686869, 1.91616162, 1.94545455, 1.97474747,\n",
       "       2.0040404 , 2.03333333, 2.06262626, 2.09191919, 2.12121212,\n",
       "       2.15050505, 2.17979798, 2.20909091, 2.23838384, 2.26767677,\n",
       "       2.2969697 , 2.32626263, 2.35555556, 2.38484848, 2.41414141,\n",
       "       2.44343434, 2.47272727, 2.5020202 , 2.53131313, 2.56060606,\n",
       "       2.58989899, 2.61919192, 2.64848485, 2.67777778, 2.70707071,\n",
       "       2.73636364, 2.76565657, 2.79494949, 2.82424242, 2.85353535,\n",
       "       2.88282828, 2.91212121, 2.94141414, 2.97070707, 3.        ])"
      ]
     },
     "execution_count": 24,
     "metadata": {},
     "output_type": "execute_result"
    }
   ],
   "source": [
    "a1 = np.linspace(0.1, 3, 100)\n",
    "a1"
   ]
  },
  {
   "cell_type": "code",
   "execution_count": 25,
   "metadata": {},
   "outputs": [
    {
     "data": {
      "image/png": "[encoded data removed]",
      "text/latex": [
       "$\\displaystyle 0.005453672642804844$"
      ],
      "text/plain": [
       "0.005453672642804844"
      ]
     },
     "execution_count": 25,
     "metadata": {},
     "output_type": "execute_result"
    }
   ],
   "source": [
    "len(energy_list)\n",
    "specific_heat(energy_list, beta_array[5], 1000)\n",
    "c_bootstrap(energy_list, beta_array[5], 1000)"
   ]
  },
  {
   "cell_type": "code",
   "execution_count": 26,
   "metadata": {},
   "outputs": [
    {
     "data": {
      "image/png": "[encoded data removed]",
      "text/latex": [
       "$\\displaystyle 500$"
      ],
      "text/plain": [
       "500"
      ]
     },
     "execution_count": 26,
     "metadata": {},
     "output_type": "execute_result"
    }
   ],
   "source": [
    "a = randint(0, len(energy_list))\n",
    "energy_list[a]\n",
    "len(energy_list)"
   ]
  },
  {
   "cell_type": "markdown",
   "metadata": {},
   "source": [
    "Getting analytic specific heat for 1D ising:"
   ]
  },
  {
   "cell_type": "code",
   "execution_count": 27,
   "metadata": {},
   "outputs": [
    {
     "name": "stdout",
     "output_type": "stream",
     "text": [
      "Z is:\n"
     ]
    },
    {
     "data": {
      "image/png": "[encoded data removed]",
      "text/latex": [
       "$\\displaystyle \\left(2.71828182845905^{\\beta} + 2.71828182845905^{- \\beta}\\right)^{N}$"
      ],
      "text/plain": [
       "                                        N\n",
       "⎛                β                   -β⎞ \n",
       "⎝2.71828182845905  + 2.71828182845905  ⎠ "
      ]
     },
     "metadata": {},
     "output_type": "display_data"
    },
    {
     "name": "stdout",
     "output_type": "stream",
     "text": [
      "c(beta) is:\n"
     ]
    },
    {
     "data": {
      "image/png": "[encoded data removed]",
      "text/latex": [
       "$\\displaystyle 1.0 \\beta^{2} \\left(- \\frac{\\left(2.71828182845905^{\\beta} - 2.71828182845905^{- \\beta}\\right)^{2}}{\\left(2.71828182845905^{\\beta} + 2.71828182845905^{- \\beta}\\right)^{2}} + 1\\right)$"
      ],
      "text/plain": [
       "       ⎛                                          2    ⎞\n",
       "       ⎜  ⎛                β                   -β⎞     ⎟\n",
       "     2 ⎜  ⎝2.71828182845905  - 2.71828182845905  ⎠     ⎟\n",
       "1.0⋅β ⋅⎜- ───────────────────────────────────────── + 1⎟\n",
       "       ⎜                                          2    ⎟\n",
       "       ⎜  ⎛                β                   -β⎞     ⎟\n",
       "       ⎝  ⎝2.71828182845905  + 2.71828182845905  ⎠     ⎠"
      ]
     },
     "metadata": {},
     "output_type": "display_data"
    }
   ],
   "source": [
    "beta = sympy.Symbol(\"beta\")\n",
    "N = sympy.Symbol(\"N\")\n",
    "\n",
    "\n",
    "Z = (e**(beta) + e**(-beta))**N\n",
    "print(\"Z is:\")\n",
    "display(Z)\n",
    "\n",
    "print(\"c(beta) is:\")\n",
    "c =  beta**2 / N * (sympy.log(Z).diff(beta, 2))\n",
    "display(c)\n",
    "\n",
    "analytic_c = sympy.lambdify(beta, c)"
   ]
  },
  {
   "cell_type": "code",
   "execution_count": 35,
   "metadata": {},
   "outputs": [
    {
     "data": {
      "text/plain": [
       "[<matplotlib.lines.Line2D at 0x20099176508>]"
      ]
     },
     "execution_count": 35,
     "metadata": {},
     "output_type": "execute_result"
    },
    {
     "data": {
      "image/png": "[encoded data removed]",
      "text/plain": [
       "<Figure size 432x288 with 1 Axes>"
      ]
     },
     "metadata": {
      "needs_background": "light"
     },
     "output_type": "display_data"
    }
   ],
   "source": [
    "analytic_c(1)\n",
    "T1 = np.linspace(0.1, 3, 100)\n",
    "b1 = 1/T1\n",
    "plt.plot(T1, analytic_c(b1))"
   ]
  },
  {
   "cell_type": "code",
   "execution_count": null,
   "metadata": {},
   "outputs": [],
   "source": []
  },
  {
   "cell_type": "raw",
   "metadata": {},
   "source": [
    "D = sympy.Function('D') # Dimensionless density\n",
    "k = sympy.Symbol('k', positive=True) # density constant\n",
    "omega = sympy.Symbol('omega') #density power law paraemter\n",
    "X = sympy.Function('X') # Position of the shock front\n",
    "c = sympy.Function('c') # Speed of sound\n",
    "V = sympy.Function('V') # Dimensionless velocity\n",
    "C = sympy.Function('C') # Dimensionless speed of sound \n",
    "chi = sympy.Symbol('chi') # Dimensionless position\n",
    "delta = sympy.Symbol('delta', negative=True) # Shock velocity position power law index\n",
    "temp = [mass_conservation, momentum_conservation, entropy_conservation.subs(eos.lhs,eos.rhs).doit()]\n",
    "temp = [itm.subs(p(x,t), rho(x,t)*c(x,t)**2/gamma) for itm in temp]\n",
    "temp = [itm.subs(rho(x,t), k*(X(t)**omega)*D(x/X(t))) for itm in temp] #updated density for stellar atmosphere\n",
    "temp = [itm.subs(v(x,t), X(t).diff(t)*V(x/X(t))*x/X(t)) for itm in temp]\n",
    "temp = [itm.subs(c(x,t), X(t).diff(t)*C(x/X(t))*x/X(t)) for itm in temp]\n",
    "temp = [itm.subs(x, chi*X(t)) for itm in temp]\n",
    "temp = [itm.doit() for itm in temp]\n",
    "temp = [itm.simplify() for itm in temp]\n",
    "temp = [itm.doit() for itm in temp]\n",
    "temp = [itm.subs(X(t).diff(t,2), delta*X(t).diff(t)**2/X(t)) for itm in temp]\n",
    "dimensionless_equation = temp\n",
    "dimensionless_equation"
   ]
  },
  {
   "cell_type": "code",
   "execution_count": null,
   "metadata": {},
   "outputs": [],
   "source": []
  }
 ],
 "metadata": {
  "kernelspec": {
   "display_name": "Python 3",
   "language": "python",
   "name": "python3"
  },
  "language_info": {
   "codemirror_mode": {
    "name": "ipython",
    "version": 3
   },
   "file_extension": ".py",
   "mimetype": "text/x-python",
   "name": "python",
   "nbconvert_exporter": "python",
   "pygments_lexer": "ipython3",
   "version": "3.7.0"
  }
 },
 "nbformat": 4,
 "nbformat_minor": 2
}
