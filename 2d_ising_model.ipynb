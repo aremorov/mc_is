{
 "cells": [
  {
   "cell_type": "markdown",
   "metadata": {},
   "source": [
    "# Monte Carlo 2D Ising Model: Heat Bath Algorithm"
   ]
  },
  {
   "cell_type": "markdown",
   "metadata": {},
   "source": [
    "NxN spins, B = 0, J = 1, k = 1"
   ]
  },
  {
   "cell_type": "code",
   "execution_count": 1,
   "metadata": {},
   "outputs": [],
   "source": [
    "from math import *\n",
    "from random import *\n",
    "import numpy as np\n",
    "import matplotlib.pyplot as plt"
   ]
  },
  {
   "cell_type": "markdown",
   "metadata": {},
   "source": [
    "Some basic conditions (to test functions & debugging):"
   ]
  },
  {
   "cell_type": "code",
   "execution_count": 2,
   "metadata": {},
   "outputs": [
    {
     "name": "stdout",
     "output_type": "stream",
     "text": [
      "[[1. 1. 1. 1. 1. 1. 1. 1. 1. 1.]\n",
      " [1. 1. 1. 1. 1. 1. 1. 1. 1. 1.]\n",
      " [1. 1. 1. 1. 1. 1. 1. 1. 1. 1.]\n",
      " [1. 1. 1. 1. 1. 1. 1. 1. 1. 1.]\n",
      " [1. 1. 1. 1. 1. 1. 1. 1. 1. 1.]\n",
      " [1. 1. 1. 1. 1. 1. 1. 1. 1. 1.]\n",
      " [1. 1. 1. 1. 1. 1. 1. 1. 1. 1.]\n",
      " [1. 1. 1. 1. 1. 1. 1. 1. 1. 1.]\n",
      " [1. 1. 1. 1. 1. 1. 1. 1. 1. 1.]\n",
      " [1. 1. 1. 1. 1. 1. 1. 1. 1. 1.]]\n"
     ]
    }
   ],
   "source": [
    "N = 10 #length of ising model\n",
    "I = np.ones((N,N)) #all spins up, periodic bounday conditions\n",
    "T = 3 #final temp, near critical region\n",
    "beta_0 = 1/T #make k = 1 here for simplicity\n",
    "print(I)"
   ]
  },
  {
   "cell_type": "code",
   "execution_count": 3,
   "metadata": {},
   "outputs": [
    {
     "name": "stdout",
     "output_type": "stream",
     "text": [
      "[[1, 2, 3], [4, 5, 6], [7, 8, 9]]\n",
      "[[1 2 3]\n",
      " [4 5 6]\n",
      " [7 8 9]]\n",
      "1\n",
      "2\n",
      "3\n",
      "4\n",
      "5\n",
      "6\n",
      "7\n",
      "8\n",
      "9\n"
     ]
    }
   ],
   "source": [
    "I = [[1,2,3],[4,5,6],[7,8,9]]\n",
    "print(I)\n",
    "I = np.asarray(I)\n",
    "print(I)\n",
    "for i in range(len(I)):\n",
    "    for j in range(len(I)):\n",
    "        print(I[i,j])"
   ]
  },
  {
   "cell_type": "markdown",
   "metadata": {},
   "source": [
    "Defining functions that calculate internal energy, flip a spin, and energy change when flipping a spin:"
   ]
  },
  {
   "cell_type": "code",
   "execution_count": 4,
   "metadata": {},
   "outputs": [],
   "source": [
    "def E(ising_array): #gets energy in 2D ising array, must have more than 2 by 2 grid.\n",
    "    total_E = 0\n",
    "    for i in range(len(ising_array)):\n",
    "        for j in range(len(ising_array)):\n",
    "            total_E += -ising_array[i, j]*ising_array[(i+1)%len(ising_array), j] - ising_array[i, j]*ising_array[i, (j + 1)%len(ising_array)] #periodic sum\n",
    "    return total_E"
   ]
  },
  {
   "cell_type": "code",
   "execution_count": 5,
   "metadata": {},
   "outputs": [],
   "source": [
    "def M(ising_array): #gets magnetization in ising array\n",
    "    total_M = 0\n",
    "    for i in range(len(ising_array)):\n",
    "        for j in range(len(ising_array)):\n",
    "            total_M += ising_array[i,j]\n",
    "    return total_M"
   ]
  },
  {
   "cell_type": "code",
   "execution_count": 6,
   "metadata": {},
   "outputs": [],
   "source": [
    "def flip(ising_array, n, m): #just flips spin in position (n, m)\n",
    "    ising_array[n, m] = -ising_array[n, m]  #updated array\n",
    "    return 0"
   ]
  },
  {
   "cell_type": "code",
   "execution_count": 7,
   "metadata": {},
   "outputs": [],
   "source": [
    "def flip_dE(ising_array, n, m): #energy change when flipping spin in position (n,m)\n",
    "    dE = 2*ising_array[n,m]*(ising_array[n,(m-1)%len(ising_array)]+ising_array[n,(m+1)%len(ising_array)]+ising_array[(n+1)%len(ising_array),m] + ising_array[(n-1)%len(ising_array),m])\n",
    "    return dE"
   ]
  },
  {
   "cell_type": "code",
   "execution_count": 8,
   "metadata": {},
   "outputs": [],
   "source": [
    "def flip_dM(ising_array, n, m): #magnetization change when flipping a spin\n",
    "    return -2*ising_array[n, m]"
   ]
  },
  {
   "cell_type": "code",
   "execution_count": 9,
   "metadata": {},
   "outputs": [],
   "source": [
    "def auto_correlation(m, t_max, t): #returns chi(t), needed to measure integrated correlation time\n",
    "    sum1 = 0\n",
    "    sum2 = 0\n",
    "    sum3 = 0\n",
    "    \n",
    "    for i in range(t_max - t):\n",
    "        #print(i+t)\n",
    "        sum1 += m[i] * m[i + t]\n",
    "        \n",
    "        \n",
    "    for i in range(t_max - t):\n",
    "        sum2 += m[i]\n",
    "        \n",
    "    for i in range(t_max - t):\n",
    "        sum3 += m[i + t]\n",
    "        \n",
    "    return sum1/(t_max - t) - sum2 * sum3 / (t_max - t)**2"
   ]
  },
  {
   "cell_type": "code",
   "execution_count": 10,
   "metadata": {},
   "outputs": [],
   "source": [
    "def corr_time(chi_list):\n",
    "    tau = 0\n",
    "    \n",
    "    for i in range(len(chi_list)):\n",
    "        tau += chi_list[i]/chi_list[0]\n",
    "    \n",
    "    return tau"
   ]
  },
  {
   "cell_type": "markdown",
   "metadata": {},
   "source": [
    "Using the above functions, we can apply the heat bath algorithm to N randomly\n",
    "chosen spins (sweep):"
   ]
  },
  {
   "cell_type": "code",
   "execution_count": 11,
   "metadata": {},
   "outputs": [],
   "source": [
    "def cycle(ising_array, beta): #does 1 sweep\n",
    "    for k in range(len(ising_array) ** 2): \n",
    "        i = randint(0, len(ising_array) - 1)\n",
    "        j = randint(0, len(ising_array) - 1) #random (i, j) spin is chosen\n",
    "        \n",
    "        d_E = flip_dE(ising_array, i, j)\n",
    "        \n",
    "        A = np.exp(-0.5 * beta * d_E)/(np.exp(-0.5 * beta * d_E) + np.exp(0.5 * beta * d_E))\n",
    "      \n",
    "        if(random() < A):\n",
    "                flip(ising_array, i, j) #much more likely to transition down than up...\n",
    "                \n",
    "                \n",
    "    return [E(I), M(I)]"
   ]
  },
  {
   "cell_type": "code",
   "execution_count": 12,
   "metadata": {},
   "outputs": [],
   "source": [
    "def m_cycle(ising_array, beta): #does 1 sweep, metropolis!\n",
    "    for k in range(len(ising_array) ** 2): \n",
    "        i = randint(0, len(ising_array) - 1)\n",
    "        j = randint(0, len(ising_array) - 1) #random (i, j) spin is chosen\n",
    "        \n",
    "        d_E = flip_dE(ising_array, i, j)\n",
    "        \n",
    "        A = np.exp(-beta*d_E)\n",
    "        \n",
    "        if(d_E < 0):\n",
    "            flip(ising_array, i, j) \n",
    "            \n",
    "      \n",
    "        else:\n",
    "            if(random() < A):\n",
    "                flip(ising_array, i, j) #much more likely to transition down than up...\n",
    "                \n",
    "                \n",
    "    return [E(I), M(I)]"
   ]
  },
  {
   "cell_type": "markdown",
   "metadata": {},
   "source": [
    "Acceptance ratio plot for heat bath algorithm:"
   ]
  },
  {
   "cell_type": "code",
   "execution_count": 13,
   "metadata": {},
   "outputs": [
    {
     "data": {
      "text/plain": [
       "Text(0, 0.5, 'Acceptance Ratio')"
      ]
     },
     "execution_count": 13,
     "metadata": {},
     "output_type": "execute_result"
    },
    {
     "data": {
      "image/png": "[encoded data removed]",
      "text/plain": [
       "<Figure size 432x288 with 1 Axes>"
      ]
     },
     "metadata": {
      "needs_background": "light"
     },
     "output_type": "display_data"
    }
   ],
   "source": [
    "def A(d_E):\n",
    "    beta = 1\n",
    "    return np.exp(-0.5 * beta * d_E)/(np.exp(-0.5 * beta * d_E) + np.exp(0.5 * beta * d_E))\n",
    "\n",
    "x = np.arange(-5,5, 0.1)\n",
    "y = A(x)\n",
    "plt.plot(x,y)\n",
    "plt.xlabel(\"dE\")\n",
    "plt.ylabel(\"Acceptance Ratio\")"
   ]
  },
  {
   "cell_type": "code",
   "execution_count": null,
   "metadata": {},
   "outputs": [],
   "source": []
  },
  {
   "cell_type": "code",
   "execution_count": 14,
   "metadata": {},
   "outputs": [
    {
     "data": {
      "text/plain": [
       "2"
      ]
     },
     "execution_count": 14,
     "metadata": {},
     "output_type": "execute_result"
    }
   ],
   "source": [
    "5%3"
   ]
  },
  {
   "cell_type": "markdown",
   "metadata": {},
   "source": [
    "Running a simulation to equilibrium conditions takes around 1000 sweeps (possibly more for low T),\n",
    "since the simulation is longer near the critical region (where the phase \n",
    "transition from ferromagnet to paramegnet occurs)"
   ]
  },
  {
   "cell_type": "code",
   "execution_count": 15,
   "metadata": {},
   "outputs": [],
   "source": [
    "def simulation(ising_array, beta): #returns energy and magnetization\n",
    "    E_list = []\n",
    "    m_list = []\n",
    "    for i in range(1000):\n",
    "        E_element, M_element = cycle(I, beta)\n",
    "        if(i > 200 and i%10 == 0):\n",
    "            m_list.append(M_element/len(I))\n",
    "            E_list.append(E_element)\n",
    "                \n",
    "    return [E_list, m_list]"
   ]
  },
  {
   "cell_type": "code",
   "execution_count": 30,
   "metadata": {},
   "outputs": [],
   "source": [
    "def m_simulation(ising_array, beta): #simulation but with metropolis\n",
    "    E_list = []\n",
    "    m_list = []\n",
    "    for i in range(10000):\n",
    "        E_element, M_element = m_cycle(I, beta)\n",
    "        if(i > 1000 and i%20 == 0):\n",
    "            m_list.append(M_element/len(I))\n",
    "            E_list.append(E_element)\n",
    "                \n",
    "    return [E_list, m_list]"
   ]
  },
  {
   "cell_type": "code",
   "execution_count": 17,
   "metadata": {},
   "outputs": [
    {
     "data": {
      "text/plain": [
       "-23.443037974683545"
      ]
     },
     "execution_count": 17,
     "metadata": {},
     "output_type": "execute_result"
    }
   ],
   "source": [
    "I = np.ones((10,10))\n",
    "I\n",
    "a = simulation(I, 0.1)\n",
    "I\n",
    "np.average(a[0])"
   ]
  },
  {
   "cell_type": "code",
   "execution_count": 18,
   "metadata": {},
   "outputs": [
    {
     "data": {
      "text/plain": [
       "-20.535714285714285"
      ]
     },
     "execution_count": 18,
     "metadata": {},
     "output_type": "execute_result"
    }
   ],
   "source": [
    "I = np.ones((10,10))\n",
    "I\n",
    "a = m_simulation(I, 0.1)\n",
    "I\n",
    "np.average(a[0])"
   ]
  },
  {
   "cell_type": "markdown",
   "metadata": {},
   "source": [
    "To get <q^2>, just convert q_array to numpy array and then np.average(q_array**2). "
   ]
  },
  {
   "cell_type": "code",
   "execution_count": 19,
   "metadata": {},
   "outputs": [],
   "source": [
    "def simple_error(q_array): #gets the error for simple averaged parameters like energy, magnetization\n",
    "    q_array = np.asarray(q_array)\n",
    "    sigma = np.sqrt((np.average(q_array**2) - np.average(q_array)**2)/len(q_array))\n",
    "    return sigma"
   ]
  },
  {
   "cell_type": "code",
   "execution_count": 20,
   "metadata": {},
   "outputs": [],
   "source": [
    "def specific_heat(e_l, beta, spin_num): #gets specific heat from energy list\n",
    "    e_l = np.asarray(e_l)\n",
    "    return ((beta**2)/spin_num) * (np.average(e_l**2) - np.average(e_l)**2)"
   ]
  },
  {
   "cell_type": "code",
   "execution_count": 21,
   "metadata": {},
   "outputs": [],
   "source": [
    "def c_bootstrap(e_l, beta, spin_num): #bootstrap error method, used to calculate specific heat error from overall energy list \n",
    "    e_l = np.asarray(e_l)\n",
    "    c_list = []\n",
    "    for i in range(10): #do this process 10 times\n",
    "        temp_list = []\n",
    "        for j in range(len(e_l)):\n",
    "            index = randint(0, len(e_l)-1)\n",
    "            temp_list.append(e_l[index])\n",
    "        c_list.append(specific_heat(temp_list, beta, spin_num))\n",
    "        #print(c_list) #troubleshoot\n",
    "    c_list = np.asarray(c_list)\n",
    "    sigma = np.sqrt(np.average(c_list**2) - np.average(c_list)**2)\n",
    "    return sigma\n",
    "        \n",
    "    "
   ]
  },
  {
   "cell_type": "code",
   "execution_count": 22,
   "metadata": {},
   "outputs": [
    {
     "data": {
      "text/plain": [
       "[4, 5]"
      ]
     },
     "execution_count": 22,
     "metadata": {},
     "output_type": "execute_result"
    }
   ],
   "source": [
    "list1 = [1,2,3,4,5]\n",
    "list1[-2:]"
   ]
  },
  {
   "cell_type": "markdown",
   "metadata": {},
   "source": [
    "Getting integrated correlation time: Correlation time time is low when not near critical temperature, but becomes very large near critical temperature. For this code to work, we have to change the simulation function to record after each sweep."
   ]
  },
  {
   "cell_type": "code",
   "execution_count": 23,
   "metadata": {},
   "outputs": [
    {
     "ename": "IndexError",
     "evalue": "list index out of range",
     "output_type": "error",
     "traceback": [
      "\u001b[1;31m---------------------------------------------------------------------------\u001b[0m",
      "\u001b[1;31mIndexError\u001b[0m                                Traceback (most recent call last)",
      "\u001b[1;32m<ipython-input-23-f80718546c1b>\u001b[0m in \u001b[0;36m<module>\u001b[1;34m\u001b[0m\n\u001b[0;32m      8\u001b[0m \u001b[1;33m\u001b[0m\u001b[0m\n\u001b[0;32m      9\u001b[0m \u001b[1;32mfor\u001b[0m \u001b[0mi\u001b[0m \u001b[1;32min\u001b[0m \u001b[0mrange\u001b[0m\u001b[1;33m(\u001b[0m\u001b[1;36m100\u001b[0m\u001b[1;33m)\u001b[0m\u001b[1;33m:\u001b[0m \u001b[1;31m#get chi(0) to chi(300)\u001b[0m\u001b[1;33m\u001b[0m\u001b[1;33m\u001b[0m\u001b[0m\n\u001b[1;32m---> 10\u001b[1;33m     \u001b[0mchi_array\u001b[0m\u001b[1;33m.\u001b[0m\u001b[0mappend\u001b[0m\u001b[1;33m(\u001b[0m\u001b[0mauto_correlation\u001b[0m\u001b[1;33m(\u001b[0m\u001b[0mm_array\u001b[0m\u001b[1;33m,\u001b[0m \u001b[1;36m400\u001b[0m\u001b[1;33m,\u001b[0m \u001b[0mi\u001b[0m\u001b[1;33m)\u001b[0m\u001b[1;33m)\u001b[0m\u001b[1;33m\u001b[0m\u001b[1;33m\u001b[0m\u001b[0m\n\u001b[0m\u001b[0;32m     11\u001b[0m \u001b[1;33m\u001b[0m\u001b[0m\n\u001b[0;32m     12\u001b[0m \u001b[0mt_array\u001b[0m \u001b[1;33m=\u001b[0m \u001b[0mnp\u001b[0m\u001b[1;33m.\u001b[0m\u001b[0marange\u001b[0m\u001b[1;33m(\u001b[0m\u001b[1;36m100\u001b[0m\u001b[1;33m)\u001b[0m\u001b[1;33m\u001b[0m\u001b[1;33m\u001b[0m\u001b[0m\n",
      "\u001b[1;32m<ipython-input-9-7c3a379e05e0>\u001b[0m in \u001b[0;36mauto_correlation\u001b[1;34m(m, t_max, t)\u001b[0m\n\u001b[0;32m      6\u001b[0m     \u001b[1;32mfor\u001b[0m \u001b[0mi\u001b[0m \u001b[1;32min\u001b[0m \u001b[0mrange\u001b[0m\u001b[1;33m(\u001b[0m\u001b[0mt_max\u001b[0m \u001b[1;33m-\u001b[0m \u001b[0mt\u001b[0m\u001b[1;33m)\u001b[0m\u001b[1;33m:\u001b[0m\u001b[1;33m\u001b[0m\u001b[1;33m\u001b[0m\u001b[0m\n\u001b[0;32m      7\u001b[0m         \u001b[1;31m#print(i+t)\u001b[0m\u001b[1;33m\u001b[0m\u001b[1;33m\u001b[0m\u001b[1;33m\u001b[0m\u001b[0m\n\u001b[1;32m----> 8\u001b[1;33m         \u001b[0msum1\u001b[0m \u001b[1;33m+=\u001b[0m \u001b[0mm\u001b[0m\u001b[1;33m[\u001b[0m\u001b[0mi\u001b[0m\u001b[1;33m]\u001b[0m \u001b[1;33m*\u001b[0m \u001b[0mm\u001b[0m\u001b[1;33m[\u001b[0m\u001b[0mi\u001b[0m \u001b[1;33m+\u001b[0m \u001b[0mt\u001b[0m\u001b[1;33m]\u001b[0m\u001b[1;33m\u001b[0m\u001b[1;33m\u001b[0m\u001b[0m\n\u001b[0m\u001b[0;32m      9\u001b[0m \u001b[1;33m\u001b[0m\u001b[0m\n\u001b[0;32m     10\u001b[0m \u001b[1;33m\u001b[0m\u001b[0m\n",
      "\u001b[1;31mIndexError\u001b[0m: list index out of range"
     ]
    }
   ],
   "source": [
    "b0 = 1/3\n",
    "I = np.ones((10,10))\n",
    "\n",
    "E_array = simulation(I, b0)[0]\n",
    "m_array = simulation(I, b0)[1]\n",
    "\n",
    "chi_array = []\n",
    "\n",
    "for i in range(100): #get chi(0) to chi(300)\n",
    "    chi_array.append(auto_correlation(m_array, 400, i))\n",
    "    \n",
    "t_array = np.arange(100)\n",
    "\n",
    "plt.plot(t_array, chi_array)\n",
    "plt.xlabel(\"Time (in sweeps)\")\n",
    "plt.ylabel(\"Magnetization autocorrelation\")\n",
    "plt.show()\n",
    "\n",
    "print(corr_time(chi_array))"
   ]
  },
  {
   "cell_type": "code",
   "execution_count": 24,
   "metadata": {},
   "outputs": [
    {
     "name": "stdout",
     "output_type": "stream",
     "text": [
      "2.5096432134300373\n",
      "-83.49367088607595\n"
     ]
    }
   ],
   "source": [
    "print(simple_error(E_array))\n",
    "I\n",
    "print(np.average(E_array))"
   ]
  },
  {
   "cell_type": "markdown",
   "metadata": {},
   "source": [
    "Comparing analytic to computationally determined energies at a variety of temperatures:"
   ]
  },
  {
   "cell_type": "code",
   "execution_count": 25,
   "metadata": {},
   "outputs": [
    {
     "data": {
      "image/png": "[encoded data removed]",
      "text/plain": [
       "<Figure size 432x288 with 1 Axes>"
      ]
     },
     "metadata": {
      "needs_background": "light"
     },
     "output_type": "display_data"
    }
   ],
   "source": [
    "N = 10\n",
    "T_array = np.asarray([16, 25, 36, 49, 64, 81, 100])\n",
    "beta_array = 1/T_array #k = 1\n",
    "E_analytic = -N**2 *np.tanh(1/T_array)\n",
    "\n",
    "E_comp = [] #heat bath\n",
    "m_E_comp = [] #metropolis\n",
    "\n",
    "for i in range(len(T_array)):\n",
    "    I = np.ones((N,N))\n",
    "    E_comp.append(np.average(simulation(I, 1/T_array[i])[0]))\n",
    "    m_E_comp.append(np.average(m_simulation(I, 1/T_array[i])[0]))\n",
    "    \n",
    "plt.plot(T_array, E_comp, label=\"Heat Bath\")\n",
    "plt.plot(T_array, m_E_comp, label=\"Metropolis\")\n",
    "plt.legend()\n",
    "plt.xlabel(\"T\")\n",
    "plt.ylabel(\"Energy\")\n",
    "plt.show()\n"
   ]
  },
  {
   "cell_type": "markdown",
   "metadata": {},
   "source": [
    "Calculating energy, magnetization, specific heat:"
   ]
  },
  {
   "cell_type": "code",
   "execution_count": 31,
   "metadata": {
    "scrolled": false
   },
   "outputs": [
    {
     "data": {
      "text/plain": [
       "<Figure size 432x288 with 0 Axes>"
      ]
     },
     "metadata": {},
     "output_type": "display_data"
    }
   ],
   "source": [
    "N = 20\n",
    "T_array2 = np.linspace(0.1, 5, 25)\n",
    "beta_array = 1/T_array2\n",
    "\n",
    "E_comp = []\n",
    "E_error = [] \n",
    "m_comp = []\n",
    "m_error = []\n",
    "c_comp = []\n",
    "c_error = []#heat bath stuff\n",
    "\n",
    "m_E_comp = []\n",
    "m_E_error = []\n",
    "m_m_comp = []\n",
    "m_m_error = []\n",
    "m_c_comp = []\n",
    "m_c_error = []#metroplis\n",
    "\n",
    "for i in range(len(T_array2)):\n",
    "    I = np.ones((N, N))\n",
    "    results = simulation(I, 1/T_array2[i]) #heat bath simulation\n",
    "    \n",
    "    energy_list = results[0]\n",
    "    m_list = results[1]\n",
    "    \n",
    "    E_comp.append(np.average(energy_list))\n",
    "    E_error.append(simple_error(energy_list)) #energy from heat bath\n",
    "    \n",
    "    m_comp.append(np.average(m_list))\n",
    "    m_error.append(simple_error(m_list)) #magnetization from heat bath\n",
    "    \n",
    "    c_comp.append(specific_heat(energy_list, beta_array[i], len(I)))\n",
    "    c_error.append(c_bootstrap(energy_list, beta_array[i], len(I))) #specific heat from heat bath\n",
    "    \n",
    "    I = np.ones((N, N))\n",
    "    m_results =  m_simulation(I, 1/T_array2[i]) #metropolis algorithm\n",
    "    \n",
    "    m_energy_list = m_results[0]\n",
    "    m_m_list = m_results[1]\n",
    "    \n",
    "    m_E_comp.append(np.average(m_energy_list))\n",
    "    m_E_error.append(simple_error(m_energy_list)) #energy from metropolis\n",
    "    \n",
    "    m_m_comp.append(np.average(m_m_list))\n",
    "    m_m_error.append(simple_error(m_m_list)) #magnetization from metropolis\n",
    "    \n",
    "    m_c_comp.append(specific_heat(m_energy_list, beta_array[i], len(I)))\n",
    "    m_c_error.append(c_bootstrap(m_energy_list, beta_array[i], len(I))) #specific heat from metropolis\n",
    "\n",
    "\n",
    "plt.errorbar(T_array2, E_comp, yerr = E_error, label=\"Heat Bath\", color = \"orange\")\n",
    "plt.errorbar(T_array2, m_E_comp, yerr = m_E_error, label=\"Metropolis\", color = \"green\")\n",
    "plt.legend()\n",
    "plt.xlabel(\"T\")\n",
    "plt.ylabel(\"Energy\")\n",
    "plt.title(\"Energy Plot\")\n",
    "plt.savefig(\"energy_2D.pdf\")\n",
    "plt.clf()\n",
    "\n",
    "plt.errorbar(T_array2, m_comp, yerr = m_error, label=\"Heat Bath\", color = \"orange\")\n",
    "plt.errorbar(T_array2, m_m_comp, yerr = m_m_error, label=\"Metropolis\", color = \"green\")\n",
    "plt.legend()\n",
    "plt.xlabel(\"T\")\n",
    "plt.ylabel(\"Magnetization\")\n",
    "plt.title(\"Magnetization\")\n",
    "plt.savefig(\"magnetization_2D.pdf\")\n",
    "plt.clf()\n",
    "\n",
    "plt.errorbar(T_array2, c_comp, yerr = c_error, label=\"Heat Bath\", color = \"orange\")\n",
    "plt.errorbar(T_array2, m_c_comp, yerr = m_c_error, label=\"Metropolis\", color = \"green\")\n",
    "plt.legend()\n",
    "plt.xlabel(\"T\")\n",
    "plt.ylabel(\"Specific Heat\")\n",
    "plt.title(\"Specific Heat\")\n",
    "plt.savefig(\"specific_heat_2D.pdf\")\n",
    "plt.clf()"
   ]
  },
  {
   "cell_type": "code",
   "execution_count": null,
   "metadata": {},
   "outputs": [],
   "source": [
    "c_comp"
   ]
  },
  {
   "cell_type": "markdown",
   "metadata": {},
   "source": [
    "Calculating magnetization:"
   ]
  },
  {
   "cell_type": "code",
   "execution_count": null,
   "metadata": {},
   "outputs": [],
   "source": [
    "N = 5\n",
    "T_array2 = np.linspace(0.1, 5, 25)\n",
    "m_comp = []\n",
    "m_error = [] #heat bath\n",
    "\n",
    "m_m_comp = []\n",
    "m_m_error = [] #metropolis\n",
    "\n",
    "\n",
    "for i in range(len(T_array2)):\n",
    "    I = np.ones((N, N))\n",
    "    m_list = simulation(I, 1/T_array2[i])[1]\n",
    "    m_comp.append(np.average(m_list))\n",
    "    m_error.append(simple_error(m_list)) #heat bath\n",
    "    \n",
    "    m_m_list = m_simulation(I, 1/T_array2[i])[1]\n",
    "    m_m_comp.append(np.average(m_m_list))\n",
    "    m_m_error.append(simple_error(m_m_list)) #metroplis\n",
    "    \n",
    "\n",
    "plt.errorbar(T_array2, m_comp, yerr = m_error, label=\"Heat Bath\", color = \"orange\")\n",
    "plt.errorbar(T_array2, m_m_comp, yerr = m_m_error, label=\"Metropolis\", color = \"green\")\n",
    "plt.legend()\n",
    "plt.xlabel(\"T\")\n",
    "plt.ylabel(\"Magnetization\")\n",
    "plt.show()\n"
   ]
  },
  {
   "cell_type": "markdown",
   "metadata": {},
   "source": [
    "Calculating specific heat:"
   ]
  },
  {
   "cell_type": "code",
   "execution_count": null,
   "metadata": {},
   "outputs": [],
   "source": [
    "N = 5\n",
    "T_array2 = np.linspace(0.1, 5, 25)\n",
    "beta_array = 1/T_array2\n",
    "c_comp = []\n",
    "c_error = [] #heat bath\n",
    "\n",
    "m_c_comp = []\n",
    "m_c_error = [] #metroplis\n",
    "\n",
    "for i in range(len(T_array2)):\n",
    "    I = np.ones((N, N))\n",
    "    energy_list = simulation(I, 1/T_array2[i])[0]\n",
    "    c_comp.append(specific_heat(energy_list, beta_array[i], len(I)))\n",
    "    c_error.append(c_bootstrap(energy_list, beta_array[i], len(I)))\n",
    "    \n",
    "    m_energy_list = m_simulation(I, 1/T_array2[i])[0]\n",
    "    m_c_comp.append(specific_heat(m_energy_list, beta_array[i], len(I)))\n",
    "    m_c_error.append(c_bootstrap(m_energy_list, beta_array[i], len(I)))\n",
    "    \n",
    "    \n",
    "plt.errorbar(T_array2, c_comp, yerr = c_error, label=\"Heat Bath\", color = \"orange\")\n",
    "plt.errorbar(T_array2, m_c_comp, yerr = m_c_error, label=\"Metropolis\", color = \"green\")\n",
    "plt.legend()\n",
    "plt.xlabel(\"T\")\n",
    "plt.ylabel(\"Specific Heat\")\n",
    "plt.show()"
   ]
  },
  {
   "cell_type": "code",
   "execution_count": null,
   "metadata": {},
   "outputs": [],
   "source": []
  },
  {
   "cell_type": "code",
   "execution_count": null,
   "metadata": {},
   "outputs": [],
   "source": []
  },
  {
   "cell_type": "code",
   "execution_count": null,
   "metadata": {},
   "outputs": [],
   "source": []
  }
 ],
 "metadata": {
  "kernelspec": {
   "display_name": "Python 3",
   "language": "python",
   "name": "python3"
  },
  "language_info": {
   "codemirror_mode": {
    "name": "ipython",
    "version": 3
   },
   "file_extension": ".py",
   "mimetype": "text/x-python",
   "name": "python",
   "nbconvert_exporter": "python",
   "pygments_lexer": "ipython3",
   "version": "3.7.4"
  }
 },
 "nbformat": 4,
 "nbformat_minor": 2
}
