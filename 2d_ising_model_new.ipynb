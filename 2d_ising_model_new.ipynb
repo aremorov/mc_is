{
 "cells": [
  {
   "cell_type": "markdown",
   "metadata": {},
   "source": [
    "# Monte Carlo 2D Ising Model: Heat Bath Algorithm"
   ]
  },
  {
   "cell_type": "markdown",
   "metadata": {},
   "source": [
    "NxN spins, B = 0, J = 1, k = 1"
   ]
  },
  {
   "cell_type": "code",
   "execution_count": 1,
   "metadata": {},
   "outputs": [],
   "source": [
    "from math import *\n",
    "from random import *\n",
    "import numpy as np\n",
    "import matplotlib.pyplot as plt"
   ]
  },
  {
   "cell_type": "markdown",
   "metadata": {},
   "source": [
    "Some basic conditions (to test functions & debugging):"
   ]
  },
  {
   "cell_type": "code",
   "execution_count": 2,
   "metadata": {},
   "outputs": [
    {
     "name": "stdout",
     "output_type": "stream",
     "text": [
      "[[1. 1. 1. 1. 1.]\n",
      " [1. 1. 1. 1. 1.]\n",
      " [1. 1. 1. 1. 1.]\n",
      " [1. 1. 1. 1. 1.]\n",
      " [1. 1. 1. 1. 1.]]\n"
     ]
    }
   ],
   "source": [
    "N = 5 #length of ising model\n",
    "I = np.ones((N,N)) #all spins up, periodic bounday conditions\n",
    "T = 3 #final temp, near critical region\n",
    "beta_0 = 1/T #make k = 1 here for simplicity\n",
    "print(I)"
   ]
  },
  {
   "cell_type": "code",
   "execution_count": 3,
   "metadata": {},
   "outputs": [
    {
     "name": "stdout",
     "output_type": "stream",
     "text": [
      "[[1, 2, 3], [4, 5, 6], [7, 8, 9]]\n",
      "[[1 2 3]\n",
      " [4 5 6]\n",
      " [7 8 9]]\n",
      "1\n",
      "2\n",
      "3\n",
      "4\n",
      "5\n",
      "6\n",
      "7\n",
      "8\n",
      "9\n"
     ]
    }
   ],
   "source": [
    "I = [[1,2,3],[4,5,6],[7,8,9]]\n",
    "print(I)\n",
    "I = np.asarray(I)\n",
    "print(I)\n",
    "for i in range(len(I)):\n",
    "    for j in range(len(I)):\n",
    "        print(I[i,j])"
   ]
  },
  {
   "cell_type": "markdown",
   "metadata": {},
   "source": [
    "Defining functions that calculate internal energy, flip a spin, and energy change when flipping a spin:"
   ]
  },
  {
   "cell_type": "code",
   "execution_count": 4,
   "metadata": {},
   "outputs": [],
   "source": [
    "def E(ising_array): #gets energy in 2D ising array, must have more than 2 by 2 grid.\n",
    "    total_E = 0\n",
    "    for i in range(len(ising_array)):\n",
    "        for j in range(len(ising_array)):\n",
    "            total_E += -ising_array[i, j]*ising_array[(i+1)%len(ising_array), j] - ising_array[i, j]*ising_array[i, (j + 1)%len(ising_array)] #periodic sum\n",
    "    return total_E"
   ]
  },
  {
   "cell_type": "code",
   "execution_count": 5,
   "metadata": {},
   "outputs": [],
   "source": [
    "def M(ising_array): #gets magnetization in ising array\n",
    "    total_M = 0\n",
    "    for i in range(len(ising_array)):\n",
    "        for j in range(len(ising_array)):\n",
    "            total_M += ising_array[i,j]\n",
    "    return total_M"
   ]
  },
  {
   "cell_type": "code",
   "execution_count": 6,
   "metadata": {},
   "outputs": [],
   "source": [
    "def flip(ising_array, n, m): #just flips spin in position (n, m)\n",
    "    ising_array[n, m] = -ising_array[n, m]  #updated array\n",
    "    return 0"
   ]
  },
  {
   "cell_type": "code",
   "execution_count": 7,
   "metadata": {},
   "outputs": [],
   "source": [
    "def flip_dE(ising_array, n, m): #energy change when flipping spin in position (n,m)\n",
    "    dE = 2*ising_array[n,m]*(ising_array[n,(m-1)%len(ising_array)]+ising_array[n,(m+1)%len(ising_array)]+ising_array[(n+1)%len(ising_array),m] + ising_array[(n-1)%len(ising_array),m])\n",
    "    return dE"
   ]
  },
  {
   "cell_type": "code",
   "execution_count": 8,
   "metadata": {},
   "outputs": [],
   "source": [
    "def flip_dM(ising_array, n, m): #magnetization change when flipping a spin\n",
    "    return -2*ising_array[n, m]"
   ]
  },
  {
   "cell_type": "code",
   "execution_count": 9,
   "metadata": {},
   "outputs": [],
   "source": [
    "def auto_correlation(m, t_max, t): #returns chi(t), needed to measure integrated correlation time\n",
    "    sum1 = 0\n",
    "    sum2 = 0\n",
    "    sum3 = 0\n",
    "    \n",
    "    for i in range(t_max - t):\n",
    "        #print(i+t)\n",
    "        sum1 += m[i] * m[i + t]\n",
    "        \n",
    "        \n",
    "    for i in range(t_max - t):\n",
    "        sum2 += m[i]\n",
    "        \n",
    "    for i in range(t_max - t):\n",
    "        sum3 += m[i + t]\n",
    "        \n",
    "    return sum1/(t_max - t) - sum2 * sum3 / (t_max - t)**2"
   ]
  },
  {
   "cell_type": "code",
   "execution_count": 10,
   "metadata": {},
   "outputs": [],
   "source": [
    "def corr_time(chi_list):\n",
    "    tau = 0\n",
    "    \n",
    "    for i in range(len(chi_list)):\n",
    "        tau += chi_list[i]/chi_list[0]\n",
    "    \n",
    "    return tau"
   ]
  },
  {
   "cell_type": "markdown",
   "metadata": {},
   "source": [
    "Using the above functions, we can apply the heat bath algorithm to N randomly\n",
    "chosen spins (sweep):"
   ]
  },
  {
   "cell_type": "code",
   "execution_count": 11,
   "metadata": {},
   "outputs": [],
   "source": [
    "def cycle(ising_array, beta, E_ising, M_ising): #does 1 sweep\n",
    "    E_change = 0\n",
    "    M_change = 0\n",
    "    for k in range(len(ising_array) ** 2): \n",
    "        i = randint(0, len(ising_array) - 1)\n",
    "        j = randint(0, len(ising_array) - 1) #random (i, j) spin is chosen\n",
    "        \n",
    "        d_E = flip_dE(ising_array, i, j)\n",
    "        d_M = flip_dM(ising_array, i, j)\n",
    "        \n",
    "        \n",
    "        A = np.exp(-0.5 * beta * d_E)/(np.exp(-0.5 * beta * d_E) + np.exp(0.5 * beta * d_E))\n",
    "                \n",
    "        if(random() < A):\n",
    "                flip(ising_array, i, j) #much more likely to transition down than up...\n",
    "                E_change += d_E\n",
    "                M_change += d_M\n",
    "            \n",
    "                \n",
    "    return [E_ising + E_change, M_ising + M_change]"
   ]
  },
  {
   "cell_type": "code",
   "execution_count": 12,
   "metadata": {},
   "outputs": [],
   "source": [
    "def m_cycle(ising_array, beta, E_ising, M_ising): #does 1 sweep, metropolis\n",
    "    E_change = 0\n",
    "    M_change = 0\n",
    "    for k in range(len(ising_array) ** 2): \n",
    "        i = randint(0, len(ising_array) - 1)\n",
    "        j = randint(0, len(ising_array) - 1) #random (i, j) spin is chosen\n",
    "        \n",
    "        d_E = flip_dE(ising_array, i, j)\n",
    "        d_M = flip_dM(ising_array, i, j)\n",
    "        \n",
    "        \n",
    "        A = np.exp(-beta*d_E)\n",
    "        \n",
    "        if(d_E < 0):\n",
    "            flip(ising_array, i, j)\n",
    "            E_change += d_E\n",
    "            M_change += d_M\n",
    "            \n",
    "      \n",
    "        else:\n",
    "            if(random() < A):\n",
    "                flip(ising_array, i, j) #much more likely to transition down than up...\n",
    "                E_change += d_E\n",
    "                M_change += d_M\n",
    "                \n",
    "                \n",
    "    return [E_ising + E_change, M_ising + M_change]"
   ]
  },
  {
   "cell_type": "markdown",
   "metadata": {},
   "source": [
    "Acceptance ratio plot for heat bath algorithm:"
   ]
  },
  {
   "cell_type": "code",
   "execution_count": 13,
   "metadata": {},
   "outputs": [
    {
     "data": {
      "text/plain": [
       "Text(0, 0.5, 'Acceptance Ratio')"
      ]
     },
     "execution_count": 13,
     "metadata": {},
     "output_type": "execute_result"
    },
    {
     "data": {
      "image/png": "[encoded data removed]",
      "text/plain": [
       "<Figure size 432x288 with 1 Axes>"
      ]
     },
     "metadata": {
      "needs_background": "light"
     },
     "output_type": "display_data"
    }
   ],
   "source": [
    "def A(d_E):\n",
    "    beta = 1\n",
    "    return np.exp(-0.5 * beta * d_E)/(np.exp(-0.5 * beta * d_E) + np.exp(0.5 * beta * d_E))\n",
    "\n",
    "x = np.arange(-5,5, 0.1)\n",
    "y = A(x)\n",
    "plt.plot(x,y)\n",
    "plt.xlabel(\"dE\")\n",
    "plt.ylabel(\"Acceptance Ratio\")"
   ]
  },
  {
   "cell_type": "code",
   "execution_count": null,
   "metadata": {},
   "outputs": [],
   "source": []
  },
  {
   "cell_type": "markdown",
   "metadata": {},
   "source": [
    "Running a simulation to equilibrium conditions takes around 1000 sweeps (possibly more for low T),\n",
    "since the simulation is longer near the critical region (where the phase \n",
    "transition from ferromagnet to paramegnet occurs)"
   ]
  },
  {
   "cell_type": "code",
   "execution_count": 14,
   "metadata": {},
   "outputs": [],
   "source": [
    "def simulation(ising_array, beta): #simulation with metropolis\n",
    "    E_element = E(I)\n",
    "    M_element = M(I)\n",
    "    E_list = []\n",
    "    m_list = []\n",
    "    for i in range(10000):\n",
    "        E_element, M_element = cycle(I, beta, E_element, M_element)\n",
    "        if(i > 1000 and i%20 == 0):\n",
    "            m_list.append(M_element/len(I))\n",
    "            E_list.append(E_element)\n",
    "                \n",
    "    return [E_list, m_list]"
   ]
  },
  {
   "cell_type": "code",
   "execution_count": 82,
   "metadata": {},
   "outputs": [],
   "source": [
    "def m_simulation(ising_array, beta): #simulation with metropolis\n",
    "    E_element = E(I)\n",
    "    M_element = M(I)\n",
    "    E_list = []\n",
    "    m_list = []\n",
    "    for i in range(10000): #FIX THIS FOR RUNNING NORMAL SIMULATION\n",
    "        E_element, M_element = m_cycle(I, beta, E_element, M_element)\n",
    "        if(i > 1000 and i%1 == 0):\n",
    "            m_list.append(M_element/len(I))\n",
    "            E_list.append(E_element)\n",
    "                \n",
    "    return [E_list, m_list]"
   ]
  },
  {
   "cell_type": "code",
   "execution_count": 16,
   "metadata": {},
   "outputs": [
    {
     "data": {
      "text/plain": [
       "-4.850779510022272"
      ]
     },
     "execution_count": 16,
     "metadata": {},
     "output_type": "execute_result"
    }
   ],
   "source": [
    "I = np.ones((5,5))\n",
    "I\n",
    "a = simulation(I, 0.1)\n",
    "I\n",
    "np.average(a[0])"
   ]
  },
  {
   "cell_type": "code",
   "execution_count": 18,
   "metadata": {},
   "outputs": [
    {
     "data": {
      "text/plain": [
       "-20.819599109131403"
      ]
     },
     "execution_count": 18,
     "metadata": {},
     "output_type": "execute_result"
    }
   ],
   "source": [
    "I = np.ones((10,10))\n",
    "I\n",
    "a = m_simulation(I, 0.1)\n",
    "I\n",
    "np.average(a[0])"
   ]
  },
  {
   "cell_type": "markdown",
   "metadata": {},
   "source": [
    "To get <q^2>, just convert q_array to numpy array and then np.average(q_array**2). "
   ]
  },
  {
   "cell_type": "code",
   "execution_count": 19,
   "metadata": {},
   "outputs": [],
   "source": [
    "def simple_error(q_array): #gets the error for simple averaged parameters like energy, magnetization\n",
    "    q_array = np.asarray(q_array)\n",
    "    sigma = np.sqrt((np.average(q_array**2) - np.average(q_array)**2)/len(q_array))\n",
    "    return sigma"
   ]
  },
  {
   "cell_type": "code",
   "execution_count": 20,
   "metadata": {},
   "outputs": [],
   "source": [
    "def specific_heat(e_l, beta, spin_num): #gets specific heat from energy list\n",
    "    e_l = np.asarray(e_l)\n",
    "    return ((beta**2)/spin_num) * (np.average(e_l**2) - np.average(e_l)**2)"
   ]
  },
  {
   "cell_type": "code",
   "execution_count": 21,
   "metadata": {},
   "outputs": [],
   "source": [
    "def c_bootstrap(e_l, beta, spin_num): #bootstrap error method, used to calculate specific heat error from overall energy list \n",
    "    e_l = np.asarray(e_l)\n",
    "    c_list = []\n",
    "    for i in range(10): #do this process 10 times\n",
    "        temp_list = []\n",
    "        for j in range(len(e_l)):\n",
    "            index = randint(0, len(e_l)-1)\n",
    "            temp_list.append(e_l[index])\n",
    "        c_list.append(specific_heat(temp_list, beta, spin_num))\n",
    "        #print(c_list) #troubleshoot\n",
    "    c_list = np.asarray(c_list)\n",
    "    sigma = np.sqrt(np.average(c_list**2) - np.average(c_list)**2)\n",
    "    return sigma\n",
    "        \n",
    "    "
   ]
  },
  {
   "cell_type": "code",
   "execution_count": 70,
   "metadata": {},
   "outputs": [
    {
     "name": "stdout",
     "output_type": "stream",
     "text": [
      "3\n",
      "4\n",
      "5\n",
      "6\n"
     ]
    }
   ],
   "source": [
    "list1 = [1,2,3,4,5]\n",
    "list1[-2:]\n",
    "for i in range(3, 7):\n",
    "    print(i)"
   ]
  },
  {
   "cell_type": "markdown",
   "metadata": {},
   "source": [
    "Getting integrated correlation time: Correlation time time is low when not near critical temperature, but becomes very large near critical temperature. For this code to work, we have to change the simulation function to record after each sweep. Analyzing relation tau \\propto L^z"
   ]
  },
  {
   "cell_type": "code",
   "execution_count": 87,
   "metadata": {},
   "outputs": [
    {
     "name": "stdout",
     "output_type": "stream",
     "text": [
      "45.17842560791938\n",
      "68.91726239891102\n",
      "121.19640044115492\n",
      "160.55098927099863\n",
      "108.04928758544341\n",
      "180.46956377668462\n",
      "234.8877287218968\n",
      "294.12620296251\n",
      "199.12594189941524\n",
      "208.34611667205732\n"
     ]
    },
    {
     "data": {
      "text/plain": [
       "[45.17842560791938,\n",
       " 68.91726239891102,\n",
       " 121.19640044115492,\n",
       " 160.55098927099863,\n",
       " 108.04928758544341,\n",
       " 180.46956377668462,\n",
       " 234.8877287218968,\n",
       " 294.12620296251,\n",
       " 199.12594189941524,\n",
       " 208.34611667205732]"
      ]
     },
     "execution_count": 87,
     "metadata": {},
     "output_type": "execute_result"
    }
   ],
   "source": [
    "b0 = 1/2.26 #near critical temp\n",
    "\n",
    "tau_list = []\n",
    "\n",
    "for L in range(5, 15):\n",
    "    tau_sum = 0\n",
    "    for j in range(20):\n",
    "        I = np.ones((L,L))\n",
    "\n",
    "        E_array = m_simulation(I, b0)[0]\n",
    "        m_array = m_simulation(I, b0)[1] #get metropolis simulation data \n",
    "\n",
    "        chi_array = []\n",
    "\n",
    "        for i in range(1000): #get chi(0) to chi(1000)\n",
    "            chi_array.append(auto_correlation(m_array, 4000, i)) #t_max = 450, t = i\n",
    "        \n",
    "        tau_add = corr_time(chi_array) \n",
    "        tau_sum += tau_add\n",
    "        \n",
    "    tau_avg = tau_sum/20\n",
    "    tau_list.append(tau_avg)\n",
    "    print(tau_avg)\n",
    "    \n",
    "tau_list"
   ]
  },
  {
   "cell_type": "code",
   "execution_count": null,
   "metadata": {},
   "outputs": [],
   "source": []
  },
  {
   "cell_type": "markdown",
   "metadata": {},
   "source": [
    "Trying to see a relation between c_crit and L"
   ]
  },
  {
   "cell_type": "code",
   "execution_count": 90,
   "metadata": {},
   "outputs": [
    {
     "data": {
      "text/plain": [
       "array([ 5,  6,  7,  8,  9, 10, 11, 12, 13, 14])"
      ]
     },
     "execution_count": 90,
     "metadata": {},
     "output_type": "execute_result"
    }
   ],
   "source": [
    "np.arange(5, 15)"
   ]
  },
  {
   "cell_type": "code",
   "execution_count": 92,
   "metadata": {},
   "outputs": [
    {
     "data": {
      "image/png": "[encoded data removed]",
      "text/plain": [
       "<Figure size 432x288 with 1 Axes>"
      ]
     },
     "metadata": {
      "needs_background": "light"
     },
     "output_type": "display_data"
    }
   ],
   "source": [
    "L_array = np.arange(5, 15)\n",
    "corr_time_array = [45.17842560791938, 68.91726239891102, 121.19640044115492, 160.55098927099863, 108.04928758544341, 180.46956377668462, 234.8877287218968, 294.12620296251, 199.12594189941524, 208.34611667205732]\n",
    "plt.plot(L_array, corr_time_array)\n",
    "plt.xlabel(\"Length\")\n",
    "plt.ylabel(\"Correlation time\")\n",
    "plt.savefig(\"Relation between correlation time and length\")"
   ]
  },
  {
   "cell_type": "code",
   "execution_count": 24,
   "metadata": {},
   "outputs": [
    {
     "name": "stdout",
     "output_type": "stream",
     "text": [
      "0.9169285779986696\n",
      "-81.184855233853\n"
     ]
    }
   ],
   "source": [
    "print(simple_error(E_array))\n",
    "I\n",
    "print(np.average(E_array))"
   ]
  },
  {
   "cell_type": "code",
   "execution_count": null,
   "metadata": {},
   "outputs": [],
   "source": [
    "T_array = np.linspace(2, 3, 10)\n",
    "\n",
    "beta_array = 1/T_array\n",
    "\n",
    "m_c_comp = []\n",
    "c_crit = []\n",
    "\n",
    "for L in range(4, 22, 2):\n",
    "    m_c_comp = []\n",
    "    for i in range(len(beta_array)):\n",
    "        I = np.ones((L, L))\n",
    "        m_results =  m_simulation(I, beta_array[i]) #metropolis algorithm\n",
    "\n",
    "        m_energy_list = m_results[0]\n",
    "        m_m_list = m_results[1]\n",
    "\n",
    "        m_c_comp.append(specific_heat(m_energy_list, beta_array[i], len(I)))\n",
    "        \n",
    "    c_crit.append(np.max(m_c_comp))    \n",
    "    print(c_crit)\n",
    "\n",
    "print(\"Done\")\n",
    "\n",
    "print(c_crit)"
   ]
  },
  {
   "cell_type": "code",
   "execution_count": null,
   "metadata": {},
   "outputs": [],
   "source": [
    "c_crit = [3.463403020259496, 6.65362102896921, 9.444005632868079, 14.719338066127586, 16.833568103656866, 21.67091916092142, 25.610895192150192, 30.447409709763168, 34.68463384606248]\n",
    " 208.34611667205732]\n",
    "plt.plot(np.arange(4, 22, 2), c_crit)\n",
    "plt.xlabel(\"Length\")\n",
    "plt.ylabel(\"Specific Heat at critical Temperature\")\n",
    "plt.savefig(\"Critical specific heat with model size\")"
   ]
  },
  {
   "cell_type": "markdown",
   "metadata": {},
   "source": [
    "Comparing analytic to computationally determined energies at a variety of temperatures:"
   ]
  },
  {
   "cell_type": "code",
   "execution_count": 25,
   "metadata": {},
   "outputs": [
    {
     "ename": "KeyboardInterrupt",
     "evalue": "",
     "output_type": "error",
     "traceback": [
      "\u001b[1;31m---------------------------------------------------------------------------\u001b[0m",
      "\u001b[1;31mKeyboardInterrupt\u001b[0m                         Traceback (most recent call last)",
      "\u001b[1;32m<ipython-input-25-1665011933d9>\u001b[0m in \u001b[0;36m<module>\u001b[1;34m\u001b[0m\n\u001b[0;32m      9\u001b[0m \u001b[1;32mfor\u001b[0m \u001b[0mi\u001b[0m \u001b[1;32min\u001b[0m \u001b[0mrange\u001b[0m\u001b[1;33m(\u001b[0m\u001b[0mlen\u001b[0m\u001b[1;33m(\u001b[0m\u001b[0mT_array\u001b[0m\u001b[1;33m)\u001b[0m\u001b[1;33m)\u001b[0m\u001b[1;33m:\u001b[0m\u001b[1;33m\u001b[0m\u001b[1;33m\u001b[0m\u001b[0m\n\u001b[0;32m     10\u001b[0m     \u001b[0mI\u001b[0m \u001b[1;33m=\u001b[0m \u001b[0mnp\u001b[0m\u001b[1;33m.\u001b[0m\u001b[0mones\u001b[0m\u001b[1;33m(\u001b[0m\u001b[1;33m(\u001b[0m\u001b[0mN\u001b[0m\u001b[1;33m,\u001b[0m\u001b[0mN\u001b[0m\u001b[1;33m)\u001b[0m\u001b[1;33m)\u001b[0m\u001b[1;33m\u001b[0m\u001b[1;33m\u001b[0m\u001b[0m\n\u001b[1;32m---> 11\u001b[1;33m     \u001b[0mE_comp\u001b[0m\u001b[1;33m.\u001b[0m\u001b[0mappend\u001b[0m\u001b[1;33m(\u001b[0m\u001b[0mnp\u001b[0m\u001b[1;33m.\u001b[0m\u001b[0maverage\u001b[0m\u001b[1;33m(\u001b[0m\u001b[0msimulation\u001b[0m\u001b[1;33m(\u001b[0m\u001b[0mI\u001b[0m\u001b[1;33m,\u001b[0m \u001b[1;36m1\u001b[0m\u001b[1;33m/\u001b[0m\u001b[0mT_array\u001b[0m\u001b[1;33m[\u001b[0m\u001b[0mi\u001b[0m\u001b[1;33m]\u001b[0m\u001b[1;33m)\u001b[0m\u001b[1;33m[\u001b[0m\u001b[1;36m0\u001b[0m\u001b[1;33m]\u001b[0m\u001b[1;33m)\u001b[0m\u001b[1;33m)\u001b[0m\u001b[1;33m\u001b[0m\u001b[1;33m\u001b[0m\u001b[0m\n\u001b[0m\u001b[0;32m     12\u001b[0m     \u001b[0mm_E_comp\u001b[0m\u001b[1;33m.\u001b[0m\u001b[0mappend\u001b[0m\u001b[1;33m(\u001b[0m\u001b[0mnp\u001b[0m\u001b[1;33m.\u001b[0m\u001b[0maverage\u001b[0m\u001b[1;33m(\u001b[0m\u001b[0mm_simulation\u001b[0m\u001b[1;33m(\u001b[0m\u001b[0mI\u001b[0m\u001b[1;33m,\u001b[0m \u001b[1;36m1\u001b[0m\u001b[1;33m/\u001b[0m\u001b[0mT_array\u001b[0m\u001b[1;33m[\u001b[0m\u001b[0mi\u001b[0m\u001b[1;33m]\u001b[0m\u001b[1;33m)\u001b[0m\u001b[1;33m[\u001b[0m\u001b[1;36m0\u001b[0m\u001b[1;33m]\u001b[0m\u001b[1;33m)\u001b[0m\u001b[1;33m)\u001b[0m\u001b[1;33m\u001b[0m\u001b[1;33m\u001b[0m\u001b[0m\n\u001b[0;32m     13\u001b[0m \u001b[1;33m\u001b[0m\u001b[0m\n",
      "\u001b[1;32m<ipython-input-14-ea1555712d6c>\u001b[0m in \u001b[0;36msimulation\u001b[1;34m(ising_array, beta)\u001b[0m\n\u001b[0;32m      5\u001b[0m     \u001b[0mm_list\u001b[0m \u001b[1;33m=\u001b[0m \u001b[1;33m[\u001b[0m\u001b[1;33m]\u001b[0m\u001b[1;33m\u001b[0m\u001b[1;33m\u001b[0m\u001b[0m\n\u001b[0;32m      6\u001b[0m     \u001b[1;32mfor\u001b[0m \u001b[0mi\u001b[0m \u001b[1;32min\u001b[0m \u001b[0mrange\u001b[0m\u001b[1;33m(\u001b[0m\u001b[1;36m10000\u001b[0m\u001b[1;33m)\u001b[0m\u001b[1;33m:\u001b[0m\u001b[1;33m\u001b[0m\u001b[1;33m\u001b[0m\u001b[0m\n\u001b[1;32m----> 7\u001b[1;33m         \u001b[0mE_element\u001b[0m\u001b[1;33m,\u001b[0m \u001b[0mM_element\u001b[0m \u001b[1;33m=\u001b[0m \u001b[0mcycle\u001b[0m\u001b[1;33m(\u001b[0m\u001b[0mI\u001b[0m\u001b[1;33m,\u001b[0m \u001b[0mbeta\u001b[0m\u001b[1;33m,\u001b[0m \u001b[0mE_element\u001b[0m\u001b[1;33m,\u001b[0m \u001b[0mM_element\u001b[0m\u001b[1;33m)\u001b[0m\u001b[1;33m\u001b[0m\u001b[1;33m\u001b[0m\u001b[0m\n\u001b[0m\u001b[0;32m      8\u001b[0m         \u001b[1;32mif\u001b[0m\u001b[1;33m(\u001b[0m\u001b[0mi\u001b[0m \u001b[1;33m>\u001b[0m \u001b[1;36m1000\u001b[0m \u001b[1;32mand\u001b[0m \u001b[0mi\u001b[0m\u001b[1;33m%\u001b[0m\u001b[1;36m20\u001b[0m \u001b[1;33m==\u001b[0m \u001b[1;36m0\u001b[0m\u001b[1;33m)\u001b[0m\u001b[1;33m:\u001b[0m\u001b[1;33m\u001b[0m\u001b[1;33m\u001b[0m\u001b[0m\n\u001b[0;32m      9\u001b[0m             \u001b[0mm_list\u001b[0m\u001b[1;33m.\u001b[0m\u001b[0mappend\u001b[0m\u001b[1;33m(\u001b[0m\u001b[0mM_element\u001b[0m\u001b[1;33m/\u001b[0m\u001b[0mlen\u001b[0m\u001b[1;33m(\u001b[0m\u001b[0mI\u001b[0m\u001b[1;33m)\u001b[0m\u001b[1;33m)\u001b[0m\u001b[1;33m\u001b[0m\u001b[1;33m\u001b[0m\u001b[0m\n",
      "\u001b[1;32m<ipython-input-11-682158393061>\u001b[0m in \u001b[0;36mcycle\u001b[1;34m(ising_array, beta, E_ising, M_ising)\u001b[0m\n\u001b[0;32m     10\u001b[0m \u001b[1;33m\u001b[0m\u001b[0m\n\u001b[0;32m     11\u001b[0m \u001b[1;33m\u001b[0m\u001b[0m\n\u001b[1;32m---> 12\u001b[1;33m         \u001b[0mA\u001b[0m \u001b[1;33m=\u001b[0m \u001b[0mnp\u001b[0m\u001b[1;33m.\u001b[0m\u001b[0mexp\u001b[0m\u001b[1;33m(\u001b[0m\u001b[1;33m-\u001b[0m\u001b[1;36m0.5\u001b[0m \u001b[1;33m*\u001b[0m \u001b[0mbeta\u001b[0m \u001b[1;33m*\u001b[0m \u001b[0md_E\u001b[0m\u001b[1;33m)\u001b[0m\u001b[1;33m/\u001b[0m\u001b[1;33m(\u001b[0m\u001b[0mnp\u001b[0m\u001b[1;33m.\u001b[0m\u001b[0mexp\u001b[0m\u001b[1;33m(\u001b[0m\u001b[1;33m-\u001b[0m\u001b[1;36m0.5\u001b[0m \u001b[1;33m*\u001b[0m \u001b[0mbeta\u001b[0m \u001b[1;33m*\u001b[0m \u001b[0md_E\u001b[0m\u001b[1;33m)\u001b[0m \u001b[1;33m+\u001b[0m \u001b[0mnp\u001b[0m\u001b[1;33m.\u001b[0m\u001b[0mexp\u001b[0m\u001b[1;33m(\u001b[0m\u001b[1;36m0.5\u001b[0m \u001b[1;33m*\u001b[0m \u001b[0mbeta\u001b[0m \u001b[1;33m*\u001b[0m \u001b[0md_E\u001b[0m\u001b[1;33m)\u001b[0m\u001b[1;33m)\u001b[0m\u001b[1;33m\u001b[0m\u001b[1;33m\u001b[0m\u001b[0m\n\u001b[0m\u001b[0;32m     13\u001b[0m \u001b[1;33m\u001b[0m\u001b[0m\n\u001b[0;32m     14\u001b[0m         \u001b[1;32mif\u001b[0m\u001b[1;33m(\u001b[0m\u001b[0mrandom\u001b[0m\u001b[1;33m(\u001b[0m\u001b[1;33m)\u001b[0m \u001b[1;33m<\u001b[0m \u001b[0mA\u001b[0m\u001b[1;33m)\u001b[0m\u001b[1;33m:\u001b[0m\u001b[1;33m\u001b[0m\u001b[1;33m\u001b[0m\u001b[0m\n",
      "\u001b[1;31mKeyboardInterrupt\u001b[0m: "
     ]
    }
   ],
   "source": [
    "N = 10\n",
    "T_array = np.asarray([16, 25, 36, 49, 64, 81, 100])\n",
    "beta_array = 1/T_array #k = 1\n",
    "E_analytic = -N**2 *np.tanh(1/T_array)\n",
    "\n",
    "E_comp = [] #heat bath\n",
    "m_E_comp = [] #metropolis\n",
    "\n",
    "for i in range(len(T_array)):\n",
    "    I = np.ones((N,N))\n",
    "    E_comp.append(np.average(simulation(I, 1/T_array[i])[0]))\n",
    "    m_E_comp.append(np.average(m_simulation(I, 1/T_array[i])[0]))\n",
    "    \n",
    "plt.plot(T_array, E_comp, label=\"Heat Bath\")\n",
    "plt.plot(T_array, m_E_comp, label=\"Metropolis\")\n",
    "plt.legend()\n",
    "plt.xlabel(\"T\")\n",
    "plt.ylabel(\"Energy\")\n",
    "plt.show()\n"
   ]
  },
  {
   "cell_type": "code",
   "execution_count": 29,
   "metadata": {},
   "outputs": [
    {
     "name": "stdout",
     "output_type": "stream",
     "text": [
      "[0.1        0.24444444 0.38888889 0.53333333 0.67777778 0.82222222\n",
      " 0.96666667 1.11111111 1.25555556 1.4       ]\n",
      "[1.5    1.5625 1.625  1.6875 1.75   1.8125 1.875  1.9375 2.     2.0625\n",
      " 2.125  2.1875 2.25   2.3125 2.375  2.4375 2.5    2.5625 2.625  2.6875\n",
      " 2.75   2.8125 2.875  2.9375 3.    ]\n",
      "[ 3.1         3.59285714  4.08571429  4.57857143  5.07142857  5.56428571\n",
      "  6.05714286  6.55        7.04285714  7.53571429  8.02857143  8.52142857\n",
      "  9.01428571  9.50714286 10.        ]\n",
      "[ 0.1         0.24444444  0.38888889  0.53333333  0.67777778  0.82222222\n",
      "  0.96666667  1.11111111  1.25555556  1.4         1.5         1.5625\n",
      "  1.625       1.6875      1.75        1.8125      1.875       1.9375\n",
      "  2.          2.0625      2.125       2.1875      2.25        2.3125\n",
      "  2.375       2.4375      2.5         2.5625      2.625       2.6875\n",
      "  2.75        2.8125      2.875       2.9375      3.          3.1\n",
      "  3.59285714  4.08571429  4.57857143  5.07142857  5.56428571  6.05714286\n",
      "  6.55        7.04285714  7.53571429  8.02857143  8.52142857  9.01428571\n",
      "  9.50714286 10.        ]\n"
     ]
    }
   ],
   "source": [
    "print(np.linspace(0.1, 1.4, 10))\n",
    "print(np.linspace(1.5, 3, 25))\n",
    "print(np.linspace(3.1, 10, 15))\n",
    "T_array2 = np.concatenate((np.linspace(0.1, 1.4, 10), np.linspace(1.5, 3, 25), np.linspace(3.1, 10, 15)))\n",
    "print(T_array2)"
   ]
  },
  {
   "cell_type": "markdown",
   "metadata": {},
   "source": [
    "Calculating energy, magnetization, specific heat:"
   ]
  },
  {
   "cell_type": "code",
   "execution_count": 30,
   "metadata": {
    "scrolled": false
   },
   "outputs": [
    {
     "name": "stdout",
     "output_type": "stream",
     "text": [
      "Done\n",
      "Done\n",
      "Done\n",
      "Done\n",
      "Done\n",
      "Done\n",
      "Done\n",
      "Done\n",
      "Done\n",
      "Done\n",
      "Done\n",
      "Done\n",
      "Done\n",
      "Done\n",
      "Done\n",
      "Done\n",
      "Done\n",
      "Done\n",
      "Done\n",
      "Done\n",
      "Done\n",
      "Done\n",
      "Done\n",
      "Done\n",
      "Done\n",
      "Done\n",
      "Done\n",
      "Done\n",
      "Done\n",
      "Done\n",
      "Done\n",
      "Done\n",
      "Done\n",
      "Done\n",
      "Done\n",
      "Done\n",
      "Done\n",
      "Done\n",
      "Done\n",
      "Done\n",
      "Done\n",
      "Done\n",
      "Done\n",
      "Done\n",
      "Done\n",
      "Done\n",
      "Done\n",
      "Done\n",
      "Done\n",
      "Done\n"
     ]
    },
    {
     "data": {
      "text/plain": [
       "<Figure size 432x288 with 0 Axes>"
      ]
     },
     "metadata": {},
     "output_type": "display_data"
    }
   ],
   "source": [
    "N = 5\n",
    "#T_array2 = np.linspace(0.1, 10, 100) \n",
    "T_array2 = np.concatenate((np.linspace(0.1, 1.4, 10), np.linspace(1.5, 3, 25), np.linspace(3.1, 10, 15)))\n",
    "beta_array = 1/T_array2\n",
    "\n",
    "E_comp = []\n",
    "E_error = [] \n",
    "m_comp = []\n",
    "m_error = []\n",
    "c_comp = []\n",
    "c_error = []#heat bath stuff\n",
    "\n",
    "m_E_comp = []\n",
    "m_E_error = []\n",
    "m_m_comp = []\n",
    "m_m_error = []\n",
    "m_c_comp = []\n",
    "m_c_error = []#metroplis\n",
    "\n",
    "for i in range(len(T_array2)):\n",
    "    I = np.ones((N, N))\n",
    "    results = simulation(I, 1/T_array2[i]) #heat bath simulation\n",
    "    \n",
    "    energy_list = results[0]\n",
    "    m_list = results[1]\n",
    "    \n",
    "    E_comp.append(np.average(energy_list))\n",
    "    E_error.append(simple_error(energy_list)) #energy from heat bath\n",
    "    \n",
    "    m_comp.append(np.average(m_list))\n",
    "    m_error.append(simple_error(m_list)) #magnetization from heat bath\n",
    "    \n",
    "    c_comp.append(specific_heat(energy_list, beta_array[i], len(I)))\n",
    "    c_error.append(c_bootstrap(energy_list, beta_array[i], len(I))) #specific heat from heat bath\n",
    "    \n",
    "    I = np.ones((N, N))\n",
    "    m_results =  m_simulation(I, 1/T_array2[i]) #metropolis algorithm\n",
    "    \n",
    "    m_energy_list = m_results[0]\n",
    "    m_m_list = m_results[1]\n",
    "    \n",
    "    m_E_comp.append(np.average(m_energy_list))\n",
    "    m_E_error.append(simple_error(m_energy_list)) #energy from metropolis\n",
    "    \n",
    "    m_m_comp.append(np.average(m_m_list))\n",
    "    m_m_error.append(simple_error(m_m_list)) #magnetization from metropolis\n",
    "    \n",
    "    m_c_comp.append(specific_heat(m_energy_list, beta_array[i], len(I)))\n",
    "    m_c_error.append(c_bootstrap(m_energy_list, beta_array[i], len(I))) #specific heat from metropolis\n",
    "    print(\"Done\")\n",
    "\n",
    "\n",
    "\n",
    "plt.errorbar(T_array2, E_comp, yerr = E_error, label=\"Heat Bath\", color = \"orange\")\n",
    "plt.errorbar(T_array2, m_E_comp, yerr = m_E_error, label=\"Metropolis\", color = \"green\")\n",
    "plt.legend()\n",
    "plt.xlabel(\"T\")\n",
    "plt.ylabel(\"Energy\")\n",
    "plt.title(\"Energy Plot\")\n",
    "plt.savefig(\"energy_2D.pdf\")\n",
    "plt.clf()\n",
    "\n",
    "plt.errorbar(T_array2, m_comp, yerr = m_error, label=\"Heat Bath\", color = \"orange\")\n",
    "plt.errorbar(T_array2, m_m_comp, yerr = m_m_error, label=\"Metropolis\", color = \"green\")\n",
    "plt.legend()\n",
    "plt.xlabel(\"T\")\n",
    "plt.ylabel(\"Magnetization\")\n",
    "plt.title(\"Magnetization\")\n",
    "plt.savefig(\"magnetization_2D.pdf\")\n",
    "plt.clf()\n",
    "\n",
    "plt.errorbar(T_array2, c_comp, yerr = c_error, label=\"Heat Bath\", color = \"orange\")\n",
    "plt.errorbar(T_array2, m_c_comp, yerr = m_c_error, label=\"Metropolis\", color = \"green\")\n",
    "plt.legend()\n",
    "plt.xlabel(\"T\")\n",
    "plt.ylabel(\"Specific Heat\")\n",
    "plt.title(\"Specific Heat\")\n",
    "plt.savefig(\"specific_heat_2D.pdf\")\n",
    "plt.clf()"
   ]
  },
  {
   "cell_type": "code",
   "execution_count": 31,
   "metadata": {},
   "outputs": [
    {
     "name": "stdout",
     "output_type": "stream",
     "text": [
      "Heat bath energy:\n",
      "[-50.0, -50.0, -50.0, -50.0, -50.0, -50.0, -49.928730512249444, -49.86636971046771, -49.69710467706013, -49.34966592427617, -48.89532293986637, -48.53897550111358, -47.98663697104677, -47.53229398663697, -46.801781737193764, -46.0, -45.30512249443207, -44.334075723830736, -43.74610244988864, -42.73942093541203, -41.046770601336306, -40.55679287305122, -38.15144766146993, -37.27839643652561, -36.6815144766147, -33.94654788418708, -33.16258351893096, -30.64142538975501, -30.51670378619154, -28.948775055679288, -27.514476614699333, -26.64142538975501, -25.679287305122493, -24.71714922048998, -23.33630289532294, -22.543429844097997, -16.70824053452116, -13.875278396436526, -12.102449888641425, -10.115812917594655, -10.044543429844097, -8.66369710467706, -7.719376391982182, -7.371937639198218, -6.614699331848552, -6.783964365256125, -6.285077951002227, -5.5456570155902005, -5.180400890868597, -4.636971046770602]\n",
      "Metropolis energy:\n",
      "[-50.0, -50.0, -50.0, -50.0, -50.0, -50.0, -49.96436525612472, -49.928730512249444, -49.58129175946548, -48.99331848552338, -48.7260579064588, -48.494432071269486, -47.98663697104677, -47.389755011135854, -46.44543429844098, -46.507795100222715, -45.75946547884187, -44.83296213808463, -43.80846325167038, -42.28507795100223, -42.16035634743875, -39.630289532293986, -39.478841870824056, -36.90423162583519, -36.15590200445434, -33.98218262806236, -32.40534521158129, -31.478841870824052, -30.044543429844097, -29.12694877505568, -27.389755011135858, -26.587973273942094, -24.494432071269486, -23.951002227171493, -24.146993318485524, -21.608017817371937, -17.875278396436524, -13.964365256124722, -12.138084632516703, -10.659242761692651, -9.866369710467707, -9.082405345211582, -8.022271714922049, -7.273942093541202, -6.498886414253898, -6.22271714922049, -5.875278396436526, -5.848552338530067, -5.314031180400891, -5.144766146993319]\n",
      "Heat bath magnetization:\n",
      "[5.0, 5.0, 5.0, 5.0, 5.0, 5.0, 4.996436525612473, 4.992873051224945, 4.984855233853006, 4.964365256124721, 4.941202672605791, 4.91804008908686, 4.8824053452115805, 1.5211581291759466, 4.814699331848553, -4.233853006681515, -4.697995545657016, 0.8770601336302896, 2.8191536748329624, -0.4289532293986637, 0.8574610244988864, 0.9073496659242762, 0.36124721603563476, -0.03518930957683738, -0.08685968819599109, -0.6374164810690423, 0.5394209354120267, -0.46191536748329615, 0.18574610244988865, 0.39599109131403115, -0.5732739420935411, -0.04587973273942092, -0.1296213808463252, 0.06458797327394214, -0.09665924276169265, 0.05657015590200444, 0.24276169265033407, 0.13763919821826284, 0.0013363028953229134, -0.12783964365256129, 0.08596881959910913, -0.02004454342984412, 0.0334075723830735, 0.11625835189309575, 0.0031180400890868484, 0.15634743875278395, 0.09844097995545657, -0.0423162583518931, -0.07171492204899778, 0.041425389755011116]\n",
      "Metropolis magnetization:\n",
      "[5.0, 5.0, 5.0, 5.0, 5.0, 5.0, 4.998218262806236, 4.996436525612473, 4.977728285077951, 4.944766146993319, 4.926057906458798, 4.9135857461024495, 4.8841870824053455, 2.4236080178173727, 0.3104677060133632, -0.8797327394209354, -0.8654788418708238, 0.8957683741648108, 1.5238307349665925, -0.30601336302895327, -1.4757238307349667, -0.7452115812917594, 0.6258351893095768, -0.2739420935412027, 0.16792873051224946, 0.18040089086859687, 0.26057906458797325, -0.4690423162583518, -0.5216035634743875, -0.41559020044543427, -0.2329621380846325, 0.2766146993318485, 0.020935412026726066, -0.10378619153674835, 0.265924276169265, 0.061024498886414265, 0.1403118040089087, 0.15189309576837418, 0.03429844097995546, -0.14298440979955457, -0.07082405345211583, 0.07260579064587971, 0.08062360801781734, -0.04409799554565701, 0.12694877505567928, -0.03697104677060134, -0.03697104677060134, 0.04320712694877507, 0.026280623608017827, 0.015590200445434275]\n",
      "Heat bath specific heat:\n",
      "[0.0, 0.0, 0.0, 0.0, 0.0, 0.0, 0.12094385396154704, 0.1876104979637275, 0.33195409442690205, 0.5859057428954991, 0.867127973902259, 1.1037429949256405, 1.4257136004978308, 1.6270609736140427, 1.8942206008250797, 2.3777060398454615, 2.753878121195387, 3.324571190554051, 3.453792391902823, 3.7489464950609355, 3.9638676340530616, 3.716839509522209, 4.789811240035864, 4.438486731827144, 4.648701911283277, 4.466987224206453, 4.4977554674828, 4.9106852530679355, 4.259757871796357, 3.9795476968897505, 4.140589719788955, 3.744911763065058, 3.779293882902154, 3.3861983837039533, 2.812680933571204, 2.7059509335366627, 1.3406132051139148, 1.0219098847356918, 0.6772098593580518, 0.5322127494185873, 0.43297291863938825, 0.29951668011840765, 0.26147900669672225, 0.2372468220979025, 0.1960857479761662, 0.18871121296807522, 0.1344344023443814, 0.09833924021678972, 0.1095348952549055, 0.09299699902282232]\n",
      "Metropolis specific heat:\n",
      "[0.0, 0.0, 0.0, 0.0, 0.0, 0.0, 0.06074371092215625, 0.09154240306349491, 0.4434176901956828, 0.940179981695546, 1.1829359312040144, 1.1658978612209485, 1.4634990803939747, 1.6012531890720063, 2.5329631402662702, 2.299094044681257, 2.45572764244448, 2.716395028865737, 3.3554039910516167, 4.1410920567086285, 3.7236166150862116, 4.15600628479228, 4.283388511998486, 4.756897897197798, 4.459621021809063, 4.368710513105244, 4.725040689282295, 4.246630305015137, 4.156779726587984, 4.340324225934291, 3.9598030001244995, 3.4834850370928843, 3.1087096375742815, 2.963619379425417, 2.9708635704518627, 2.6399287646200698, 1.5567024699499528, 1.0844143969885, 0.7322036116055948, 0.537527717874908, 0.3279041456238545, 0.33671290793877123, 0.2495509490465655, 0.22866551321261108, 0.1813540764799553, 0.1677979684832739, 0.1628818484115579, 0.13562838181859385, 0.10643180929571469, 0.10914739510220683]\n",
      "Heat bath energy error:\n",
      "[0.0, 0.0, 0.0, 0.0, 0.0, 0.0, 0.03547565940285776, 0.05078645395747946, 0.07633729743479939, 0.11308467253974205, 0.14739905160870503, 0.17322710116172663, 0.2047535042656684, 0.22714727301345963, 0.25416465626583606, 0.29492998409348586, 0.32834882128471143, 0.37279610091789545, 0.39222921755626877, 0.42141540755728635, 0.44645772083416496, 0.44503769527335774, 0.5196411666942898, 0.5141159007231386, 0.5403700808312737, 0.5436430135648653, 0.5594995742873272, 0.5992344256252584, 0.571720278347935, 0.5657533858477118, 0.5905077819037683, 0.5743480586892664, 0.5898003323845122, 0.5704215258162243, 0.5309374027475483, 0.5381253907834793, 0.43898888828939464, 0.4358490711546, 0.39760648727259074, 0.39042244938160436, 0.38636841850197307, 0.34981639097863276, 0.35344475796859726, 0.362001952392407, 0.35213506231226277, 0.3680433374640068, 0.32970797350425324, 0.298302281628631, 0.3320382376506428, 0.3218076017469419]\n",
      "Metropolis energy error:\n",
      "[0.0, 0.0, 0.0, 0.0, 0.0, 0.0, 0.02514138709936361, 0.03547565940285776, 0.08822756096185996, 0.14325024299171585, 0.17216057420233422, 0.17803775547529838, 0.20744903737724457, 0.22533861309899342, 0.2939099679023403, 0.29001350038121954, 0.31006532634787926, 0.3369768035133912, 0.3866021239905623, 0.44290770079533565, 0.43271629087758395, 0.47059573968363333, 0.4914033168834055, 0.5322375213964167, 0.5292665200906662, 0.5376294990527558, 0.573461962630198, 0.557247248889773, 0.5647674325093173, 0.5908420428261207, 0.5774725110209769, 0.5539382281050337, 0.5349211387673571, 0.53364312651643, 0.545662917294478, 0.5315200229840354, 0.4730473220838609, 0.4489804823319187, 0.4134354941904823, 0.3923670927451274, 0.3362363846871844, 0.37090230387045253, 0.3452890011817427, 0.3553947811678849, 0.3386490929190799, 0.34705112496040524, 0.36291973427894736, 0.3503228303733946, 0.32730118221064536, 0.34863302111250144]\n",
      "Heat bath magnetization error:\n",
      "[0.0, 0.0, 0.0, 0.0, 0.0, 0.0, 0.0017737829701375352, 0.0027970239468393795, 0.0038168648717423746, 0.006692583295505857, 0.008081825227778453, 0.0109525843418947, 0.014175557658318176, 0.21816425434898715, 0.016988367840691455, 0.10455011575423946, 0.025214118800808677, 0.21635379092882454, 0.17275322790495343, 0.21462334976896005, 0.20613356519260523, 0.20327800311000788, 0.19846991984575654, 0.1962920852449009, 0.19411345571882563, 0.18115998837978858, 0.1796369793367514, 0.17029691845490263, 0.16970387338280224, 0.1617808661902156, 0.15611311330836444, 0.1552831317791844, 0.15102022801095072, 0.14548880700998595, 0.13950567361718583, 0.1352104627129055, 0.10467940516496411, 0.09438620081737652, 0.08548739493675815, 0.07872167566184393, 0.07596717102912713, 0.06860915919654441, 0.06676831641887931, 0.0636601553878635, 0.06493095458002811, 0.06693769050723355, 0.06532597752271878, 0.059007688377186736, 0.05901167228553431, 0.05863129895262193]\n",
      "Metropolis magnetization error:\n",
      "[0.0, 0.0, 0.0, 0.0, 0.0, 0.0, 0.0012570693549678027, 0.0017737829701375352, 0.004847505572981989, 0.00851880735471696, 0.010898386120785988, 0.011617027047737384, 0.013284425145039124, 0.19888666060199597, 0.2259888953190937, 0.22286037229975023, 0.22081722944202806, 0.21779234282974555, 0.20658543350699826, 0.2134359431549578, 0.2013065564993096, 0.20097692719255725, 0.20238041925313074, 0.19485733427256488, 0.1926854529021257, 0.18359875023536754, 0.17791897503634563, 0.17175261067013664, 0.16772184306452337, 0.1653265097919577, 0.15625020232099, 0.1515459600804037, 0.14495453233684202, 0.1428782773178858, 0.14258853261261173, 0.13255633643514764, 0.11407641859888487, 0.0955910953280032, 0.08599973491256971, 0.07961633142027218, 0.07263815923175374, 0.07100986436701007, 0.06788166705062999, 0.06376275137021822, 0.06162482984788369, 0.06426870945231156, 0.06273141069564492, 0.06293727274658666, 0.0602131738462481, 0.05756671227760861]\n",
      "Heat bath specific heat error:\n",
      "[0.0, 0.0, 0.0, 0.0, 0.0, 0.0, 0.0545442693805907, 0.06478546994286448, 0.03298572289588767, 0.13087138046767965, 0.13928491129558626, 0.10656227329587889, 0.07236278308560988, 0.208509425531211, 0.28226066087913987, 0.2302147249688463, 0.1960119728946797, 0.2713262615061907, 0.21403191317873582, 0.21338165782239138, 0.23513864036890997, 0.19317098362940874, 0.3433272256705001, 0.20683071088384408, 0.20088084204967496, 0.23337893792079833, 0.1537313685863946, 0.2934867706179095, 0.19418517462124063, 0.17609359304056918, 0.16809237524959675, 0.263246105300382, 0.2485951017077489, 0.18292841809309582, 0.19989237670941915, 0.19066997067409258, 0.08719435473606846, 0.07184216701911879, 0.05201300717038192, 0.04087557764035853, 0.038549653307254364, 0.02302659569590558, 0.01637046549548718, 0.01947633897362518, 0.015027898604719219, 0.01691338713842441, 0.005437105134966214, 0.007148679798458705, 0.0076711323737455135, 0.004240811316083684]\n",
      "Metropolis specific heat error:\n",
      "[0.0, 0.0, 0.0, 0.0, 0.0, 0.0, 0.04481986045481986, 0.030451346664891264, 0.07408139817695256, 0.08148650242542893, 0.1746680805044407, 0.09764757440053468, 0.16385856324862216, 0.09821378604876724, 0.2821834147191578, 0.21662780880043525, 0.334396096234009, 0.2648751126189408, 0.28630777020067033, 0.2923114136121278, 0.2890254077496148, 0.20788236802405047, 0.23948285595385396, 0.26398557921668414, 0.29996171268196414, 0.20005170964110663, 0.2663850294369991, 0.19575580641214144, 0.1402934363209637, 0.2094140472741047, 0.2171230226508432, 0.20394425623881837, 0.199005104539702, 0.13002745631218124, 0.189191456647235, 0.18860041861164667, 0.11998722766241698, 0.08242183884607097, 0.04404246578188845, 0.04691762867177364, 0.019400963543009728, 0.028990141363482335, 0.009969709382914665, 0.013203740306577656, 0.01493893013271318, 0.01239985209081764, 0.00950991051167799, 0.011793414981579963, 0.0052146377879691615, 0.005686035741615323]\n"
     ]
    }
   ],
   "source": [
    "print(\"Heat bath energy:\")\n",
    "print(E_comp)\n",
    "\n",
    "print(\"Metropolis energy:\")\n",
    "print(m_E_comp)\n",
    "\n",
    "print(\"Heat bath magnetization:\")\n",
    "print(m_comp)\n",
    "\n",
    "print(\"Metropolis magnetization:\")\n",
    "print(m_m_comp)\n",
    "\n",
    "print(\"Heat bath specific heat:\")\n",
    "print(c_comp)\n",
    "\n",
    "print(\"Metropolis specific heat:\")\n",
    "print(m_c_comp)\n",
    "\n",
    "print(\"Heat bath energy error:\")\n",
    "print(E_error)\n",
    "\n",
    "print(\"Metropolis energy error:\")\n",
    "print(m_E_error)\n",
    "\n",
    "print(\"Heat bath magnetization error:\")\n",
    "print(m_error)\n",
    "\n",
    "print(\"Metropolis magnetization error:\")\n",
    "print(m_m_error)\n",
    "\n",
    "print(\"Heat bath specific heat error:\")\n",
    "print(c_error)\n",
    "\n",
    "print(\"Metropolis specific heat error:\")\n",
    "print(m_c_error)\n"
   ]
  },
  {
   "cell_type": "code",
   "execution_count": null,
   "metadata": {},
   "outputs": [],
   "source": [
    "c_comp"
   ]
  },
  {
   "cell_type": "markdown",
   "metadata": {},
   "source": [
    "Calculating magnetization:"
   ]
  },
  {
   "cell_type": "code",
   "execution_count": null,
   "metadata": {},
   "outputs": [],
   "source": [
    "N = 5\n",
    "T_array2 = np.linspace(0.1, 5, 25)\n",
    "m_comp = []\n",
    "m_error = [] #heat bath\n",
    "\n",
    "m_m_comp = []\n",
    "m_m_error = [] #metropolis\n",
    "\n",
    "\n",
    "for i in range(len(T_array2)):\n",
    "    I = np.ones((N, N))\n",
    "    m_list = simulation(I, 1/T_array2[i])[1]\n",
    "    m_comp.append(np.average(m_list))\n",
    "    m_error.append(simple_error(m_list)) #heat bath\n",
    "    \n",
    "    m_m_list = m_simulation(I, 1/T_array2[i])[1]\n",
    "    m_m_comp.append(np.average(m_m_list))\n",
    "    m_m_error.append(simple_error(m_m_list)) #metroplis\n",
    "    \n",
    "\n",
    "plt.errorbar(T_array2, m_comp, yerr = m_error, label=\"Heat Bath\", color = \"orange\")\n",
    "plt.errorbar(T_array2, m_m_comp, yerr = m_m_error, label=\"Metropolis\", color = \"green\")\n",
    "plt.legend()\n",
    "plt.xlabel(\"T\")\n",
    "plt.ylabel(\"Magnetization\")\n",
    "plt.show()\n"
   ]
  },
  {
   "cell_type": "markdown",
   "metadata": {},
   "source": [
    "Calculating specific heat:"
   ]
  },
  {
   "cell_type": "code",
   "execution_count": null,
   "metadata": {},
   "outputs": [],
   "source": [
    "N = 5\n",
    "T_array2 = np.linspace(0.1, 5, 25)\n",
    "beta_array = 1/T_array2\n",
    "c_comp = []\n",
    "c_error = [] #heat bath\n",
    "\n",
    "m_c_comp = []\n",
    "m_c_error = [] #metroplis\n",
    "\n",
    "for i in range(len(T_array2)):\n",
    "    I = np.ones((N, N))\n",
    "    energy_list = simulation(I, 1/T_array2[i])[0]\n",
    "    c_comp.append(specific_heat(energy_list, beta_array[i], len(I)))\n",
    "    c_error.append(c_bootstrap(energy_list, beta_array[i], len(I)))\n",
    "    \n",
    "    m_energy_list = m_simulation(I, 1/T_array2[i])[0]\n",
    "    m_c_comp.append(specific_heat(m_energy_list, beta_array[i], len(I)))\n",
    "    m_c_error.append(c_bootstrap(m_energy_list, beta_array[i], len(I)))\n",
    "    \n",
    "    \n",
    "plt.errorbar(T_array2, c_comp, yerr = c_error, label=\"Heat Bath\", color = \"orange\")\n",
    "plt.errorbar(T_array2, m_c_comp, yerr = m_c_error, label=\"Metropolis\", color = \"green\")\n",
    "plt.legend()\n",
    "plt.xlabel(\"T\")\n",
    "plt.ylabel(\"Specific Heat\")\n",
    "plt.show()"
   ]
  },
  {
   "cell_type": "code",
   "execution_count": null,
   "metadata": {},
   "outputs": [],
   "source": []
  },
  {
   "cell_type": "code",
   "execution_count": null,
   "metadata": {},
   "outputs": [],
   "source": []
  },
  {
   "cell_type": "code",
   "execution_count": null,
   "metadata": {},
   "outputs": [],
   "source": []
  }
 ],
 "metadata": {
  "kernelspec": {
   "display_name": "Python 3",
   "language": "python",
   "name": "python3"
  },
  "language_info": {
   "codemirror_mode": {
    "name": "ipython",
    "version": 3
   },
   "file_extension": ".py",
   "mimetype": "text/x-python",
   "name": "python",
   "nbconvert_exporter": "python",
   "pygments_lexer": "ipython3",
   "version": "3.7.4"
  }
 },
 "nbformat": 4,
 "nbformat_minor": 2
}
