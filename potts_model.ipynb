{
 "cells": [
  {
   "cell_type": "markdown",
   "metadata": {},
   "source": [
    "# Monte Carlo 2D Potts Model: Wolff Algorithm\n",
    "\n",
    "NxN spins, B = 0, J = 1, k = 1, q states"
   ]
  },
  {
   "cell_type": "code",
   "execution_count": 1,
   "metadata": {},
   "outputs": [],
   "source": [
    "from math import *\n",
    "from random import *\n",
    "import numpy as np\n",
    "import matplotlib.pyplot as plt"
   ]
  },
  {
   "cell_type": "markdown",
   "metadata": {},
   "source": [
    "Some basic conditions (to test functions & debugging):"
   ]
  },
  {
   "cell_type": "code",
   "execution_count": 2,
   "metadata": {},
   "outputs": [
    {
     "name": "stdout",
     "output_type": "stream",
     "text": [
      "[[1. 1. 1. 1. 1. 1. 1. 1. 1. 1.]\n",
      " [1. 1. 1. 1. 1. 1. 1. 1. 1. 1.]\n",
      " [1. 1. 1. 1. 1. 1. 1. 1. 1. 1.]\n",
      " [1. 1. 1. 1. 1. 1. 1. 1. 1. 1.]\n",
      " [1. 1. 1. 1. 1. 1. 1. 1. 1. 1.]\n",
      " [1. 1. 1. 1. 1. 1. 1. 1. 1. 1.]\n",
      " [1. 1. 1. 1. 1. 1. 1. 1. 1. 1.]\n",
      " [1. 1. 1. 1. 1. 1. 1. 1. 1. 1.]\n",
      " [1. 1. 1. 1. 1. 1. 1. 1. 1. 1.]\n",
      " [1. 1. 1. 1. 1. 1. 1. 1. 1. 1.]]\n"
     ]
    }
   ],
   "source": [
    "N = 10 #length of ising model\n",
    "I = np.ones((N,N)) #all spins starting in the same direction, periodic bounday conditions\n",
    "T = 3 #final temp, near critical region\n",
    "beta_0 = 1/T #make k = 1 here for simplicity\n",
    "q = 5 #5 state potts model (so spins go from 1 to 5)\n",
    "print(I)"
   ]
  },
  {
   "cell_type": "code",
   "execution_count": 3,
   "metadata": {},
   "outputs": [],
   "source": [
    "def kd(a,b): #kronecker delta\n",
    "    if(a==b):\n",
    "        return 1\n",
    "    else: \n",
    "        return 0"
   ]
  },
  {
   "cell_type": "markdown",
   "metadata": {},
   "source": [
    "Defining functions that calculate internal energy, flip a spin, and energy change when flipping a spin:"
   ]
  },
  {
   "cell_type": "code",
   "execution_count": 4,
   "metadata": {},
   "outputs": [],
   "source": [
    "def E(ising_array): #gets energy in 2D ising array, must have more than 2 by 2 grid.\n",
    "    total_E = 0\n",
    "    for i in range(len(ising_array)):\n",
    "        for j in range(len(ising_array)):\n",
    "            total_E += -kd(ising_array[i, j],ising_array[(i + 1)%len(ising_array), j])\n",
    "            total_E += -kd(ising_array[i, j],ising_array[i, (j + 1)%len(ising_array)]) #periodic sum\n",
    "    return total_E"
   ]
  },
  {
   "cell_type": "code",
   "execution_count": 5,
   "metadata": {},
   "outputs": [],
   "source": [
    "def M(ising_array): #gets magnetization in ising array\n",
    "    total_M = 0\n",
    "    for i in range(len(ising_array)):\n",
    "        for j in range(len(ising_array)):\n",
    "            total_M += ising_array[i,j]\n",
    "    return total_M"
   ]
  },
  {
   "cell_type": "code",
   "execution_count": 6,
   "metadata": {},
   "outputs": [],
   "source": [
    "def flip(ising_array, n, m, p): #just flips spin in position (n, m) to state p\n",
    "    ising_array[n, m] = p  #updated array\n",
    "    return 0"
   ]
  },
  {
   "cell_type": "code",
   "execution_count": 7,
   "metadata": {},
   "outputs": [],
   "source": [
    "def flip_dE(ising_array, n, m, p): #energy change when flipping spin in position (n,m) to p\n",
    "    E1 = 0\n",
    "    E2 = 0\n",
    "    \n",
    "    E1 += -kd(ising_array[n, m],ising_array[(n + 1)%len(ising_array), m])\n",
    "    E1 += -kd(ising_array[n, m],ising_array[(n - 1)%len(ising_array), m])\n",
    "    E1 += -kd(ising_array[n, m],ising_array[n, (m + 1)%len(ising_array)])\n",
    "    E1 += -kd(ising_array[n, m],ising_array[n, (m - 1)%len(ising_array)]) \n",
    "    \n",
    "    E2 += -kd(p,ising_array[(n + 1)%len(ising_array), m])\n",
    "    E2 += -kd(p,ising_array[(n - 1)%len(ising_array), m])\n",
    "    E2 += -kd(p,ising_array[n, (m + 1)%len(ising_array)])\n",
    "    E2 += -kd(p,ising_array[n, (m - 1)%len(ising_array)]) #dE = (energy after flip) - (energy before flip)\n",
    "    \n",
    "    dE = E2 - E1\n",
    "    \n",
    "    return dE"
   ]
  },
  {
   "cell_type": "code",
   "execution_count": 8,
   "metadata": {},
   "outputs": [
    {
     "name": "stdout",
     "output_type": "stream",
     "text": [
      "[[ 2  2  3]\n",
      " [ 4 10  5]\n",
      " [ 2  2  7]]\n",
      "-4\n",
      "-2\n",
      "-6\n",
      "[[ 2  2  2]\n",
      " [ 4 10  5]\n",
      " [ 2  2  7]]\n"
     ]
    }
   ],
   "source": [
    "I = np.asarray([[2,2,3],[4,10,5],[2,2,7]])\n",
    "print(I)\n",
    "print(E(I))\n",
    "print(flip_dE(I, 0, 2, 2))\n",
    "flip(I, 0, 2, 2)\n",
    "print(E(I))\n",
    "print(I)"
   ]
  },
  {
   "cell_type": "code",
   "execution_count": 9,
   "metadata": {},
   "outputs": [],
   "source": [
    "def flip_dM(ising_array, n, m, p): #magnetization change when flipping a spin to p\n",
    "    return p - ising_array[n, m]"
   ]
  },
  {
   "cell_type": "code",
   "execution_count": 10,
   "metadata": {},
   "outputs": [],
   "source": [
    "def auto_correlation(m, t_max, t): #returns chi(t), needed to measure integrated correlation time\n",
    "    sum1 = 0\n",
    "    sum2 = 0\n",
    "    sum3 = 0\n",
    "    \n",
    "    for i in range(t_max - t):\n",
    "        #print(i+t)\n",
    "        sum1 += m[i] * m[i + t]\n",
    "        \n",
    "        \n",
    "    for i in range(t_max - t):\n",
    "        sum2 += m[i]\n",
    "        \n",
    "    for i in range(t_max - t):\n",
    "        sum3 += m[i + t]\n",
    "        \n",
    "    return sum1/(t_max - t) - sum2 * sum3 / (t_max - t)**2"
   ]
  },
  {
   "cell_type": "code",
   "execution_count": 11,
   "metadata": {},
   "outputs": [],
   "source": [
    "def corr_time(chi_list):\n",
    "    tau = 0\n",
    "    \n",
    "    for i in range(len(chi_list)):\n",
    "        tau += chi_list[i]/chi_list[0]\n",
    "    \n",
    "    return tau"
   ]
  },
  {
   "cell_type": "markdown",
   "metadata": {},
   "source": [
    "Using the above functions, we can apply the heat bath algorithm to N randomly\n",
    "chosen spins (sweep):"
   ]
  },
  {
   "cell_type": "code",
   "execution_count": 12,
   "metadata": {},
   "outputs": [],
   "source": [
    "def cycle(ising_array, beta, q): #does 1 sweep\n",
    "    for k in range(len(ising_array) ** 2): \n",
    "        i = randint(0, len(ising_array) - 1)\n",
    "        j = randint(0, len(ising_array) - 1) #random (i, j) spin is chosen\n",
    "        \n",
    "        s = randint(1,q)  \n",
    "        \n",
    "        while(s == ising_array[i,j]):\n",
    "            s = randint(1,q)\n",
    "        \n",
    "        d_E = flip_dE(ising_array, i, j, s)\n",
    "        \n",
    "        if(d_E > 0):\n",
    "            if(random() < np.exp(-beta*d_E)):\n",
    "                flip(ising_array, i, j, s)\n",
    "        else:\n",
    "            flip(ising_array, i, j, s)\n",
    "      \n",
    "                \n",
    "                \n",
    "    return [E(I), M(I)]"
   ]
  },
  {
   "cell_type": "markdown",
   "metadata": {},
   "source": [
    "Acceptance ratio plot for heat bath algorithm:"
   ]
  },
  {
   "cell_type": "markdown",
   "metadata": {},
   "source": [
    "Running a simulation to equilibrium conditions takes around 1000 sweeps (possibly more for low T),\n",
    "since the simulation is longer near the critical region (where the phase \n",
    "transition from ferromagnet to paramegnet occurs)"
   ]
  },
  {
   "cell_type": "code",
   "execution_count": 13,
   "metadata": {},
   "outputs": [],
   "source": [
    "def simulation(ising_array, beta, q): #returns energy and magnetization\n",
    "    E_list = []\n",
    "    m_list = []\n",
    "    for i in range(1000):\n",
    "        E_element, M_element = cycle(I, beta, q)\n",
    "        if(i > 200 && i%10 == 0):\n",
    "            m_list.append(M_element/len(I))\n",
    "            E_list.append(E_element)\n",
    "                \n",
    "    return [E_list, m_list]"
   ]
  },
  {
   "cell_type": "code",
   "execution_count": null,
   "metadata": {},
   "outputs": [],
   "source": []
  },
  {
   "cell_type": "code",
   "execution_count": 14,
   "metadata": {},
   "outputs": [
    {
     "name": "stdout",
     "output_type": "stream",
     "text": [
      "[[1. 1. 1. 1. 1. 1.]\n",
      " [1. 1. 1. 1. 1. 1.]\n",
      " [1. 1. 1. 1. 1. 1.]\n",
      " [1. 1. 1. 1. 1. 1.]\n",
      " [1. 1. 1. 1. 1. 1.]\n",
      " [1. 1. 1. 1. 1. 1.]]\n"
     ]
    }
   ],
   "source": [
    "I = np.ones((6,6))\n",
    "I\n",
    "a = simulation(I, 1/0.8, 2)\n",
    "print(I)\n"
   ]
  },
  {
   "cell_type": "code",
   "execution_count": null,
   "metadata": {},
   "outputs": [],
   "source": []
  },
  {
   "cell_type": "markdown",
   "metadata": {},
   "source": [
    "To get <q^2>, just convert q_array to numpy array and then np.average(q_array**2). "
   ]
  },
  {
   "cell_type": "code",
   "execution_count": 15,
   "metadata": {},
   "outputs": [],
   "source": [
    "def simple_error(q_array): #gets the error for simple averaged parameters like energy, magnetization\n",
    "    q_array = np.asarray(q_array)\n",
    "    sigma = np.sqrt((np.average(q_array**2) - np.average(q_array)**2)/len(q_array))\n",
    "    return sigma"
   ]
  },
  {
   "cell_type": "code",
   "execution_count": 16,
   "metadata": {},
   "outputs": [],
   "source": [
    "def specific_heat(e_l, beta, spin_num): #gets specific heat from energy list\n",
    "    e_l = np.asarray(e_l)\n",
    "    return ((beta**2)/spin_num) * (np.average(e_l**2) - np.average(e_l)**2)"
   ]
  },
  {
   "cell_type": "code",
   "execution_count": 17,
   "metadata": {},
   "outputs": [],
   "source": [
    "def c_bootstrap(e_l, beta, spin_num): #bootstrap error method, used to calculate specific heat error from overall energy list \n",
    "    e_l = np.asarray(e_l)\n",
    "    c_list = []\n",
    "    for i in range(10): #do this process 10 times\n",
    "        temp_list = []\n",
    "        for j in range(len(e_l)):\n",
    "            index = randint(0, len(e_l)-1)\n",
    "            temp_list.append(e_l[index])\n",
    "        c_list.append(specific_heat(temp_list, beta, spin_num))\n",
    "        #print(c_list) #troubleshoot\n",
    "    c_list = np.asarray(c_list)\n",
    "    sigma = np.sqrt(np.average(c_list**2) - np.average(c_list)**2)\n",
    "    return sigma\n",
    "        \n",
    "    "
   ]
  },
  {
   "cell_type": "code",
   "execution_count": 18,
   "metadata": {},
   "outputs": [
    {
     "data": {
      "text/plain": [
       "[4, 5]"
      ]
     },
     "execution_count": 18,
     "metadata": {},
     "output_type": "execute_result"
    }
   ],
   "source": [
    "list1 = [1,2,3,4,5]\n",
    "list1[-2:]"
   ]
  },
  {
   "cell_type": "markdown",
   "metadata": {},
   "source": [
    "Getting integrated correlation time: Correlation time time is low when not near critical temperature, but becomes very large near critical temperature."
   ]
  },
  {
   "cell_type": "code",
   "execution_count": 19,
   "metadata": {},
   "outputs": [
    {
     "data": {
      "image/png": "[encoded data removed]",
      "text/plain": [
       "<Figure size 432x288 with 1 Axes>"
      ]
     },
     "metadata": {
      "needs_background": "light"
     },
     "output_type": "display_data"
    },
    {
     "name": "stdout",
     "output_type": "stream",
     "text": [
      "3.5069723932178345\n"
     ]
    }
   ],
   "source": [
    "b0 = 1/1\n",
    "I = np.ones((5,5))\n",
    "\n",
    "E_array = simulation(I, b0, 5)[0]\n",
    "m_array = simulation(I, b0, 5)[1]\n",
    "\n",
    "chi_array = []\n",
    "\n",
    "for i in range(100): #get chi(0) to chi(300)\n",
    "    chi_array.append(auto_correlation(m_array, 400, i))\n",
    "    \n",
    "t_array = np.arange(100)\n",
    "\n",
    "plt.plot(t_array, chi_array)\n",
    "plt.xlabel(\"Time (in sweeps)\")\n",
    "plt.ylabel(\"Magnetization autocorrelation\")\n",
    "plt.show()\n",
    "\n",
    "print(corr_time(chi_array))"
   ]
  },
  {
   "cell_type": "code",
   "execution_count": 20,
   "metadata": {},
   "outputs": [
    {
     "name": "stdout",
     "output_type": "stream",
     "text": [
      "0.18473070907404648\n",
      "-27.3945\n"
     ]
    }
   ],
   "source": [
    "print(simple_error(E_array))\n",
    "I\n",
    "print(np.average(E_array))"
   ]
  },
  {
   "cell_type": "markdown",
   "metadata": {},
   "source": [
    "Computationally determined energies at a variety of temperatures:"
   ]
  },
  {
   "cell_type": "code",
   "execution_count": 21,
   "metadata": {},
   "outputs": [
    {
     "data": {
      "image/png": "[encoded data removed]",
      "text/plain": [
       "<Figure size 432x288 with 1 Axes>"
      ]
     },
     "metadata": {
      "needs_background": "light"
     },
     "output_type": "display_data"
    }
   ],
   "source": [
    "N = 5\n",
    "T_array = np.asarray([4, 9, 16, 25, 36, 49, 64, 81, 100])\n",
    "beta_array = 1/T_array #k = 1\n",
    "\n",
    "E_comp = []\n",
    "\n",
    "for i in range(len(T_array)):\n",
    "    I = np.ones((N,N))\n",
    "    E_comp.append(np.average(simulation(I, 1/T_array[i], 5)[0]))\n",
    "    \n",
    "plt.plot(T_array, E_comp, label=\"Computational\")\n",
    "plt.legend()\n",
    "plt.xlabel(\"T\")\n",
    "plt.ylabel(\"Energy\")\n",
    "plt.show()\n"
   ]
  },
  {
   "cell_type": "code",
   "execution_count": 22,
   "metadata": {
    "scrolled": false
   },
   "outputs": [
    {
     "data": {
      "image/png": "[encoded data removed]",
      "text/plain": [
       "<Figure size 432x288 with 1 Axes>"
      ]
     },
     "metadata": {
      "needs_background": "light"
     },
     "output_type": "display_data"
    }
   ],
   "source": [
    "N = 5\n",
    "T_array2 = np.linspace(0.2, 5, 25)\n",
    "E_comp = []\n",
    "E_error = []\n",
    "\n",
    "for i in range(len(T_array2)):\n",
    "    I = np.ones((N, N))\n",
    "    energy_list = simulation(I, 1/T_array2[i], 5)[0]\n",
    "    E_comp.append(np.average(energy_list))\n",
    "    E_error.append(simple_error(energy_list))\n",
    "    \n",
    "    \n",
    "\n",
    "plt.errorbar(T_array2, E_comp, yerr = E_error, label=\"Computational\", color = \"green\")\n",
    "plt.legend()\n",
    "plt.xlabel(\"T\")\n",
    "plt.ylabel(\"Energy\")\n",
    "plt.show()"
   ]
  },
  {
   "cell_type": "markdown",
   "metadata": {},
   "source": [
    "Calculating magnetization:"
   ]
  },
  {
   "cell_type": "code",
   "execution_count": 24,
   "metadata": {},
   "outputs": [
    {
     "data": {
      "image/png": "[encoded data removed]",
      "text/plain": [
       "<Figure size 432x288 with 1 Axes>"
      ]
     },
     "metadata": {
      "needs_background": "light"
     },
     "output_type": "display_data"
    }
   ],
   "source": [
    "N = 5\n",
    "T_array2 = np.linspace(0.2, 5, 25)\n",
    "m_comp = []\n",
    "m_error = []\n",
    "\n",
    "for i in range(len(T_array2)):\n",
    "    I = np.ones((N, N))\n",
    "    m_list = simulation(I, 1/T_array2[i], 5)[1]\n",
    "    m_comp.append(np.average(m_list))\n",
    "    m_error.append(simple_error(m_list))\n",
    "\n",
    "plt.errorbar(T_array2, m_comp, yerr = m_error, label=\"Comp. Magnetization\", color = \"green\")\n",
    "plt.legend()\n",
    "plt.xlabel(\"T\")\n",
    "plt.ylabel(\"Magnetization\")\n",
    "plt.show()\n"
   ]
  },
  {
   "cell_type": "markdown",
   "metadata": {},
   "source": [
    "Calculating specific heat:"
   ]
  },
  {
   "cell_type": "code",
   "execution_count": 26,
   "metadata": {},
   "outputs": [
    {
     "data": {
      "image/png": "[encoded data removed]",
      "text/plain": [
       "<Figure size 432x288 with 1 Axes>"
      ]
     },
     "metadata": {
      "needs_background": "light"
     },
     "output_type": "display_data"
    }
   ],
   "source": [
    "N = 5\n",
    "T_array2 = np.linspace(0.2, 5, 25)\n",
    "beta_array = 1/T_array2\n",
    "c_comp = []\n",
    "c_error = []\n",
    "\n",
    "for i in range(len(T_array2)):\n",
    "    I = np.ones((N, N))\n",
    "    energy_list = simulation(I, 1/T_array2[i], 5)[0]\n",
    "    c_comp.append(specific_heat(energy_list, beta_array[i], len(I)))\n",
    "    c_error.append(c_bootstrap(energy_list, beta_array[i], len(I)))\n",
    "    \n",
    "    \n",
    "plt.errorbar(T_array2, c_comp, yerr = c_error, label=\"Specific Heat\", color = \"green\")\n",
    "plt.legend()\n",
    "plt.xlabel(\"T\")\n",
    "plt.ylabel(\"Specific Heat\")\n",
    "plt.show()"
   ]
  },
  {
   "cell_type": "code",
   "execution_count": null,
   "metadata": {},
   "outputs": [],
   "source": []
  }
 ],
 "metadata": {
  "kernelspec": {
   "display_name": "Python 3",
   "language": "python",
   "name": "python3"
  },
  "language_info": {
   "codemirror_mode": {
    "name": "ipython",
    "version": 3
   },
   "file_extension": ".py",
   "mimetype": "text/x-python",
   "name": "python",
   "nbconvert_exporter": "python",
   "pygments_lexer": "ipython3",
   "version": "3.7.4"
  }
 },
 "nbformat": 4,
 "nbformat_minor": 2
}
